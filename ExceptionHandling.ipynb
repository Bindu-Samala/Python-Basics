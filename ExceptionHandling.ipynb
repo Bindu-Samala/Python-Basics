{
  "nbformat": 4,
  "nbformat_minor": 0,
  "metadata": {
    "colab": {
      "provenance": [],
      "authorship_tag": "ABX9TyMY0Lx8nMd74wfS7FKp4Pl2",
      "include_colab_link": true
    },
    "kernelspec": {
      "name": "python3",
      "display_name": "Python 3"
    },
    "language_info": {
      "name": "python"
    }
  },
  "cells": [
    {
      "cell_type": "markdown",
      "metadata": {
        "id": "view-in-github",
        "colab_type": "text"
      },
      "source": [
        "<a href=\"https://colab.research.google.com/github/Bindu-Samala/Python-Basics/blob/main/ExceptionHandling.ipynb\" target=\"_parent\"><img src=\"https://colab.research.google.com/assets/colab-badge.svg\" alt=\"Open In Colab\"/></a>"
      ]
    },
    {
      "cell_type": "markdown",
      "source": [
        "if the try block catches the error then except block will be executed"
      ],
      "metadata": {
        "id": "g5D4ToIVD93H"
      }
    },
    {
      "cell_type": "code",
      "execution_count": 3,
      "metadata": {
        "colab": {
          "base_uri": "https://localhost:8080/"
        },
        "id": "TACC5YHICQiP",
        "outputId": "893f7684-2901-473f-886d-6912a158ad16"
      },
      "outputs": [
        {
          "output_type": "stream",
          "name": "stdout",
          "text": [
            "ENter a  numbera\n",
            "Invalid input\n",
            "End of program\n"
          ]
        }
      ],
      "source": [
        "a=input(\"ENter a  number\")\n",
        "try:\n",
        "  for i in range(1,11):\n",
        "    print(f\"{int(a)} X {i}={int(a)*i}\")\n",
        "except:\n",
        "  print(\"Invalid input\")\n",
        "print(\"End of program\")"
      ]
    },
    {
      "cell_type": "code",
      "source": [
        "try:\n",
        "  num=int(input(\"Enter a  number\"))\n",
        "  a=[4,5]\n",
        "  print(a[num])\n",
        "except ValueError:\n",
        "  print(\"Number entered is not an integer\")\n",
        "except IndexError:\n",
        "  print(\"Index Error\")"
      ],
      "metadata": {
        "colab": {
          "base_uri": "https://localhost:8080/"
        },
        "id": "j8vS3CuBElEB",
        "outputId": "8593976c-5f9c-4ef9-fbed-b46614541d96"
      },
      "execution_count": 6,
      "outputs": [
        {
          "output_type": "stream",
          "name": "stdout",
          "text": [
            "Enter a  number4\n",
            "Index Error\n"
          ]
        }
      ]
    },
    {
      "cell_type": "markdown",
      "source": [
        "finally will execute irrespective of any error"
      ],
      "metadata": {
        "id": "jNXK3siyGHIy"
      }
    },
    {
      "cell_type": "code",
      "source": [
        "try:\n",
        "  num=int(input(\"Enter a  number\"))\n",
        "  a=[4,5]\n",
        "  print(a[num])\n",
        "except ValueError:\n",
        "  print(\"Number entered is not an integer\")\n",
        "finally:\n",
        "  print(\"please try again\")\n",
        "print(\"Bindu\")\n"
      ],
      "metadata": {
        "colab": {
          "base_uri": "https://localhost:8080/"
        },
        "id": "UAVR8mNZFewu",
        "outputId": "1843e5d1-ee5c-4bf4-a5c1-7a9117af2b97"
      },
      "execution_count": 9,
      "outputs": [
        {
          "output_type": "stream",
          "name": "stdout",
          "text": [
            "Enter a  numbera\n",
            "Number entered is not an integer\n",
            "please try again\n",
            "Bindu\n"
          ]
        }
      ]
    },
    {
      "cell_type": "markdown",
      "source": [
        "Raising Custom Errors in Python"
      ],
      "metadata": {
        "id": "cLYy-z4QIdh-"
      }
    },
    {
      "cell_type": "code",
      "source": [
        "a=int(input(\"Enter any value between 5 and 9\"))\n",
        "if(a<5 or a>9):\n",
        "  raise ValueError(\"Value should be between 5 and 9\")"
      ],
      "metadata": {
        "colab": {
          "base_uri": "https://localhost:8080/",
          "height": 201
        },
        "id": "63lQ_TBsIgh9",
        "outputId": "2bc240f7-1b8a-4870-de85-cc4dc3756b16"
      },
      "execution_count": 11,
      "outputs": [
        {
          "name": "stdout",
          "output_type": "stream",
          "text": [
            "Enter any value between 5 and 94\n"
          ]
        },
        {
          "output_type": "error",
          "ename": "ValueError",
          "evalue": "Value should be between 5 and 9",
          "traceback": [
            "\u001b[0;31m---------------------------------------------------------------------------\u001b[0m",
            "\u001b[0;31mValueError\u001b[0m                                Traceback (most recent call last)",
            "\u001b[0;32m<ipython-input-11-583114c75a8c>\u001b[0m in \u001b[0;36m<cell line: 2>\u001b[0;34m()\u001b[0m\n\u001b[1;32m      1\u001b[0m \u001b[0ma\u001b[0m\u001b[0;34m=\u001b[0m\u001b[0mint\u001b[0m\u001b[0;34m(\u001b[0m\u001b[0minput\u001b[0m\u001b[0;34m(\u001b[0m\u001b[0;34m\"Enter any value between 5 and 9\"\u001b[0m\u001b[0;34m)\u001b[0m\u001b[0;34m)\u001b[0m\u001b[0;34m\u001b[0m\u001b[0;34m\u001b[0m\u001b[0m\n\u001b[1;32m      2\u001b[0m \u001b[0;32mif\u001b[0m\u001b[0;34m(\u001b[0m\u001b[0ma\u001b[0m\u001b[0;34m<\u001b[0m\u001b[0;36m5\u001b[0m \u001b[0;32mor\u001b[0m \u001b[0ma\u001b[0m\u001b[0;34m>\u001b[0m\u001b[0;36m9\u001b[0m\u001b[0;34m)\u001b[0m\u001b[0;34m:\u001b[0m\u001b[0;34m\u001b[0m\u001b[0;34m\u001b[0m\u001b[0m\n\u001b[0;32m----> 3\u001b[0;31m   \u001b[0;32mraise\u001b[0m \u001b[0mValueError\u001b[0m\u001b[0;34m(\u001b[0m\u001b[0;34m\"Value should be between 5 and 9\"\u001b[0m\u001b[0;34m)\u001b[0m\u001b[0;34m\u001b[0m\u001b[0;34m\u001b[0m\u001b[0m\n\u001b[0m",
            "\u001b[0;31mValueError\u001b[0m: Value should be between 5 and 9"
          ]
        }
      ]
    },
    {
      "cell_type": "code",
      "source": [],
      "metadata": {
        "id": "gTdYhpJyIqBb"
      },
      "execution_count": null,
      "outputs": []
    }
  ]
}