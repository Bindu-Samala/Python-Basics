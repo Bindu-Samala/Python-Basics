{
  "nbformat": 4,
  "nbformat_minor": 0,
  "metadata": {
    "colab": {
      "provenance": [],
      "authorship_tag": "ABX9TyNl6gpiTiu7QIQtIVlDPhIP",
      "include_colab_link": true
    },
    "kernelspec": {
      "name": "python3",
      "display_name": "Python 3"
    },
    "language_info": {
      "name": "python"
    }
  },
  "cells": [
    {
      "cell_type": "markdown",
      "metadata": {
        "id": "view-in-github",
        "colab_type": "text"
      },
      "source": [
        "<a href=\"https://colab.research.google.com/github/Bindu-Samala/Python-Basics/blob/main/Day4.ipynb\" target=\"_parent\"><img src=\"https://colab.research.google.com/assets/colab-badge.svg\" alt=\"Open In Colab\"/></a>"
      ]
    },
    {
      "cell_type": "markdown",
      "source": [
        "Functions\n",
        "\n"
      ],
      "metadata": {
        "id": "q6tq6CNmgXfQ"
      }
    },
    {
      "cell_type": "code",
      "execution_count": null,
      "metadata": {
        "colab": {
          "base_uri": "https://localhost:8080/"
        },
        "id": "V8-Xqb7LgTCX",
        "outputId": "93bd2380-fa8b-40c0-d748-db7b416f0244"
      },
      "outputs": [
        {
          "output_type": "stream",
          "name": "stdout",
          "text": [
            "4.7368421052631575\n"
          ]
        }
      ],
      "source": [
        "def calculateGmean(a,b):\n",
        "  mean=(a*b)/(a+b)\n",
        "  print(mean)\n",
        "def isLesser(a,b):\n",
        "  pass\n",
        "c=9\n",
        "d=10\n",
        "calculateGmean(c,d)\n",
        "isLesser(c,d)\n"
      ]
    },
    {
      "cell_type": "markdown",
      "source": [
        "Function Arguments\n",
        "*  Default Arguments\n",
        "*  Keyword Arguments\n",
        "*  Variable length Arguments\n",
        "*  Required Arguments\n",
        "\n",
        "\n",
        "\n"
      ],
      "metadata": {
        "id": "lmZ2o5-ClJ6t"
      }
    },
    {
      "cell_type": "code",
      "source": [
        "#default arguments\n",
        "def average(a=5,b=1):\n",
        "  print(\"The average is \",(a+b)/2)\n",
        "average()\n",
        "average(5)\n",
        "average(b=5)\n",
        "average(2,18)"
      ],
      "metadata": {
        "colab": {
          "base_uri": "https://localhost:8080/"
        },
        "id": "TFFG3fuSleD-",
        "outputId": "a0dc7bb9-10cf-4799-d4f3-55c57d1aa5f7"
      },
      "execution_count": null,
      "outputs": [
        {
          "output_type": "stream",
          "name": "stdout",
          "text": [
            "The average is  3.0\n",
            "The average is  3.0\n",
            "The average is  5.0\n",
            "The average is  10.0\n"
          ]
        }
      ]
    },
    {
      "cell_type": "code",
      "source": [
        "#Keyword Argumengts\n",
        "#arguments are passed with key,so order does not matter\n",
        "def average(a=5,b=1):\n",
        "  print(\"The average is \",(a+b)/2)\n",
        "average(b=10,a=25)\n"
      ],
      "metadata": {
        "colab": {
          "base_uri": "https://localhost:8080/"
        },
        "id": "kyvdfT9plh62",
        "outputId": "2e6b9d3a-3cf9-42e5-cdbc-67d2ebd01e41"
      },
      "execution_count": null,
      "outputs": [
        {
          "output_type": "stream",
          "name": "stdout",
          "text": [
            "The average is  17.5\n"
          ]
        }
      ]
    },
    {
      "cell_type": "code",
      "source": [
        "#Required Arguments\n",
        "def average(a,b=1):\n",
        "  print(\"The average is \",(a+b)/2)\n",
        "average(5) #requites argument is 1 i.e., a\n",
        "average(5,10)"
      ],
      "metadata": {
        "colab": {
          "base_uri": "https://localhost:8080/"
        },
        "id": "0gfFaD_Jm56F",
        "outputId": "327a7a9d-44bc-4253-dcc0-c67f9c8a50e4"
      },
      "execution_count": null,
      "outputs": [
        {
          "output_type": "stream",
          "name": "stdout",
          "text": [
            "The average is  3.0\n",
            "The average is  7.5\n"
          ]
        }
      ]
    },
    {
      "cell_type": "code",
      "source": [
        "#Variable length Arguments\n",
        "def average(*numbers):\n",
        "  print(type(numbers))\n",
        "  sum=0\n",
        "  for i in numbers:\n",
        "    sum=sum+i\n",
        "  print(\"Avergae is:\",sum/len(numbers))\n",
        "average(1,2,3,4,5)\n"
      ],
      "metadata": {
        "colab": {
          "base_uri": "https://localhost:8080/"
        },
        "id": "VMgtgW2LnbpN",
        "outputId": "77d67c94-3fcb-429c-b776-e4c0fbe229e2"
      },
      "execution_count": null,
      "outputs": [
        {
          "output_type": "stream",
          "name": "stdout",
          "text": [
            "<class 'tuple'>\n",
            "Avergae is: 3.0\n"
          ]
        }
      ]
    },
    {
      "cell_type": "code",
      "source": [
        "def name(**name):\n",
        "  print(type(name))\n",
        "  print(\"Hello, \",name[\"fname\"],name[\"mname\"],name[\"lname\"])\n",
        "name(mname=\"Bindu\",lname=\"Samala\",fname=\"Miss\")"
      ],
      "metadata": {
        "colab": {
          "base_uri": "https://localhost:8080/"
        },
        "id": "DhpPVDvCoOUo",
        "outputId": "74cb1f86-cf2b-4ec9-bf15-71b8f2c6dd63"
      },
      "execution_count": null,
      "outputs": [
        {
          "output_type": "stream",
          "name": "stdout",
          "text": [
            "<class 'dict'>\n",
            "Hello,  Miss Bindu Samala\n"
          ]
        }
      ]
    },
    {
      "cell_type": "markdown",
      "source": [
        "return statement"
      ],
      "metadata": {
        "id": "Qh1nVpLPo5Kf"
      }
    },
    {
      "cell_type": "code",
      "source": [
        "def average(*numbers):\n",
        "  print(type(numbers))\n",
        "  sum=0\n",
        "  for i in numbers:\n",
        "    sum=sum+i\n",
        "  return sum/len(numbers)\n",
        "a=average(1,2,3,4,5)\n",
        "print(a)"
      ],
      "metadata": {
        "colab": {
          "base_uri": "https://localhost:8080/"
        },
        "id": "gbQPPXbGo7jN",
        "outputId": "e384c15e-ffea-487f-c2de-40e2ffabec8d"
      },
      "execution_count": null,
      "outputs": [
        {
          "output_type": "stream",
          "name": "stdout",
          "text": [
            "<class 'tuple'>\n",
            "3.0\n"
          ]
        }
      ]
    }
  ]
}
