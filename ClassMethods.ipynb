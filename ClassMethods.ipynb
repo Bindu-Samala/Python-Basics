{
  "nbformat": 4,
  "nbformat_minor": 0,
  "metadata": {
    "colab": {
      "provenance": [],
      "authorship_tag": "ABX9TyPpnhoXcdG7BVS8M1fThNi8",
      "include_colab_link": true
    },
    "kernelspec": {
      "name": "python3",
      "display_name": "Python 3"
    },
    "language_info": {
      "name": "python"
    }
  },
  "cells": [
    {
      "cell_type": "markdown",
      "metadata": {
        "id": "view-in-github",
        "colab_type": "text"
      },
      "source": [
        "<a href=\"https://colab.research.google.com/github/Bindu-Samala/Python-Basics/blob/main/ClassMethods.ipynb\" target=\"_parent\"><img src=\"https://colab.research.google.com/assets/colab-badge.svg\" alt=\"Open In Colab\"/></a>"
      ]
    },
    {
      "cell_type": "markdown",
      "source": [
        "Class Methods\n",
        "\n",
        "A class method is a type of method that is bound to the class and not the instance of the class.It ooperates on the class as a whole ,rather than on a specific instance of the calss.Class. methods are defined usingb th @classmethod decorator,followed by  a function definition.The first argument of the function is always \"cls,which represents the class istself"
      ],
      "metadata": {
        "id": "gkWWoPLrCKCN"
      }
    },
    {
      "cell_type": "code",
      "execution_count": 6,
      "metadata": {
        "colab": {
          "base_uri": "https://localhost:8080/"
        },
        "id": "ooAZa9SjB43O",
        "outputId": "b4fabb86-c796-4c12-ec87-b0cc2fde5f5b"
      },
      "outputs": [
        {
          "output_type": "stream",
          "name": "stdout",
          "text": [
            "The name is Harry and compny is Apple\n",
            "The name is Harry and compny is Tesla\n",
            "Tesla\n"
          ]
        }
      ],
      "source": [
        "class Employee:\n",
        "  company=\"Apple\"\n",
        "  def show(self):\n",
        "    print(f\"The name is {self.name} and compny is {self.company}\")\n",
        "  @classmethod\n",
        "  def changeCompany(cls,newCompany):\n",
        "    cls.company=newCompany\n",
        "e1=Employee()\n",
        "e1.name=\"Harry\"\n",
        "e1.show()\n",
        "e1.changeCompany(\"Tesla\")\n",
        "e1.show()\n",
        "print(Employee.company)"
      ]
    },
    {
      "cell_type": "markdown",
      "source": [
        "Class Methods as alternative constructors"
      ],
      "metadata": {
        "id": "C8r1J7PqInX0"
      }
    },
    {
      "cell_type": "code",
      "source": [
        "class Person:\n",
        "  def __init__(self,name,age):\n",
        "    self.name=name\n",
        "    self.age=age\n",
        "  @classmethod\n",
        "  def from_string(cls,string):\n",
        "    name,age=string.split(',')\n",
        "    return cls(name,int(age))\n",
        "person=Person.from_string(\"John Doe,30\")\n",
        "print(person.name,person.age)"
      ],
      "metadata": {
        "colab": {
          "base_uri": "https://localhost:8080/"
        },
        "id": "h7n9lOv-COgx",
        "outputId": "dea04c80-445c-4d92-a2e3-1a327be85f34"
      },
      "execution_count": 11,
      "outputs": [
        {
          "output_type": "stream",
          "name": "stdout",
          "text": [
            "John Doe 30\n"
          ]
        }
      ]
    },
    {
      "cell_type": "markdown",
      "source": [
        "dir() function returns a list of all teh attributes and methods(inlucidng dunder methods) available for an object.It is a useful tool for discovering what you can do with an object"
      ],
      "metadata": {
        "id": "3aMOAUQkKXUy"
      }
    },
    {
      "cell_type": "code",
      "source": [
        "x=[1,2,3,4]\n",
        "dir(x)\n",
        "# print(x.__dir__())\n"
      ],
      "metadata": {
        "colab": {
          "base_uri": "https://localhost:8080/"
        },
        "id": "Z4C71VvyKs1g",
        "outputId": "d279b9ba-f9b8-4e5b-dd51-3abf735bf0dd"
      },
      "execution_count": 14,
      "outputs": [
        {
          "output_type": "execute_result",
          "data": {
            "text/plain": [
              "['__add__',\n",
              " '__class__',\n",
              " '__class_getitem__',\n",
              " '__contains__',\n",
              " '__delattr__',\n",
              " '__delitem__',\n",
              " '__dir__',\n",
              " '__doc__',\n",
              " '__eq__',\n",
              " '__format__',\n",
              " '__ge__',\n",
              " '__getattribute__',\n",
              " '__getitem__',\n",
              " '__gt__',\n",
              " '__hash__',\n",
              " '__iadd__',\n",
              " '__imul__',\n",
              " '__init__',\n",
              " '__init_subclass__',\n",
              " '__iter__',\n",
              " '__le__',\n",
              " '__len__',\n",
              " '__lt__',\n",
              " '__mul__',\n",
              " '__ne__',\n",
              " '__new__',\n",
              " '__reduce__',\n",
              " '__reduce_ex__',\n",
              " '__repr__',\n",
              " '__reversed__',\n",
              " '__rmul__',\n",
              " '__setattr__',\n",
              " '__setitem__',\n",
              " '__sizeof__',\n",
              " '__str__',\n",
              " '__subclasshook__',\n",
              " 'append',\n",
              " 'clear',\n",
              " 'copy',\n",
              " 'count',\n",
              " 'extend',\n",
              " 'index',\n",
              " 'insert',\n",
              " 'pop',\n",
              " 'remove',\n",
              " 'reverse',\n",
              " 'sort']"
            ]
          },
          "metadata": {},
          "execution_count": 14
        }
      ]
    },
    {
      "cell_type": "markdown",
      "source": [
        "The __ dict__ attribute\n",
        "\n",
        "The __ dict__ attribute returns a dictionary representation of an object's attributes.It is useful tool for introspection.\n",
        "\n"
      ],
      "metadata": {
        "id": "5jsBCZn_Lk8f"
      }
    },
    {
      "cell_type": "code",
      "source": [
        "class Person:\n",
        "  def __init__(self,name,age):\n",
        "    self.name=name\n",
        "    self.age=age\n",
        "    self.version=1\n",
        "\n",
        "p=Person(\"John\",30)\n",
        "print(p.__dict__)"
      ],
      "metadata": {
        "colab": {
          "base_uri": "https://localhost:8080/"
        },
        "id": "La6fL4ErL8hH",
        "outputId": "f0af7b1e-8311-46fe-f0fa-ac8d9f9bb2af"
      },
      "execution_count": 18,
      "outputs": [
        {
          "output_type": "stream",
          "name": "stdout",
          "text": [
            "{'name': 'John', 'age': 30, 'version': 1}\n"
          ]
        }
      ]
    },
    {
      "cell_type": "markdown",
      "source": [
        "help() function is used to get help documentation for an object,including a description of its attributed=s and methods"
      ],
      "metadata": {
        "id": "qszLa83nNwfT"
      }
    },
    {
      "cell_type": "code",
      "source": [
        "class Person:\n",
        "  def __init__(self,name,age):\n",
        "    self.name=name\n",
        "    self.age=age\n",
        "    self.version=1\n",
        "\n",
        "p=Person(\"John\",30)\n",
        "print(help(Person))"
      ],
      "metadata": {
        "colab": {
          "base_uri": "https://localhost:8080/"
        },
        "id": "NnOZcyXzMJac",
        "outputId": "d8645701-0e6d-4cb2-e4b2-92760c469ce9"
      },
      "execution_count": 19,
      "outputs": [
        {
          "output_type": "stream",
          "name": "stdout",
          "text": [
            "Help on class Person in module __main__:\n",
            "\n",
            "class Person(builtins.object)\n",
            " |  Person(name, age)\n",
            " |  \n",
            " |  Methods defined here:\n",
            " |  \n",
            " |  __init__(self, name, age)\n",
            " |      Initialize self.  See help(type(self)) for accurate signature.\n",
            " |  \n",
            " |  ----------------------------------------------------------------------\n",
            " |  Data descriptors defined here:\n",
            " |  \n",
            " |  __dict__\n",
            " |      dictionary for instance variables (if defined)\n",
            " |  \n",
            " |  __weakref__\n",
            " |      list of weak references to the object (if defined)\n",
            "\n",
            "None\n"
          ]
        }
      ]
    },
    {
      "cell_type": "markdown",
      "source": [
        "super() keyword in Python is used to refer  to the parent class"
      ],
      "metadata": {
        "id": "GfyxQfIvOUF2"
      }
    },
    {
      "cell_type": "code",
      "source": [
        "class ParentClass:\n",
        "  def parent_method(self):\n",
        "    print(\"This is the parent class\")\n",
        "class ChildClass(ParentClass):\n",
        "  def parent_method(self):\n",
        "    print(\"THis is the overidden method\")\n",
        "    super().parent_method()\n",
        "  def child_method(self):\n",
        "    print(\"This is the child method\")\n",
        "    super().parent_method()\n",
        "child_object=ChildClass()\n",
        "child_object.child_method()\n",
        "child_object.parent_method()"
      ],
      "metadata": {
        "colab": {
          "base_uri": "https://localhost:8080/"
        },
        "id": "kdPgN6XeOlw3",
        "outputId": "89d1bde3-96d2-44f7-d93c-7637d9ac0529"
      },
      "execution_count": 28,
      "outputs": [
        {
          "output_type": "stream",
          "name": "stdout",
          "text": [
            "This is the child method\n",
            "This is the parent class\n",
            "THis is the overidden method\n",
            "This is the parent class\n"
          ]
        }
      ]
    },
    {
      "cell_type": "markdown",
      "source": [
        "Magic/Dunder Methods in Python\n",
        "\n",
        "they are powerful tools taht allow you to customize the behaviour of your classes"
      ],
      "metadata": {
        "id": "AzloF-3aQtyu"
      }
    },
    {
      "cell_type": "code",
      "source": [
        "class Employee:\n",
        "  def __init__(self,name):\n",
        "    self.name=name\n",
        "  def __len__(self): #\n",
        "    i=0;\n",
        "    for c in self.name:\n",
        "      i=i+1\n",
        "    return i\n",
        "e=Employee(\"Harishchandra\")\n",
        "print(len(e))"
      ],
      "metadata": {
        "colab": {
          "base_uri": "https://localhost:8080/"
        },
        "id": "SdFhlZgvOnqB",
        "outputId": "ef67a024-a68d-4905-92a8-cf3f27f45a33"
      },
      "execution_count": 31,
      "outputs": [
        {
          "output_type": "stream",
          "name": "stdout",
          "text": [
            "13\n"
          ]
        }
      ]
    },
    {
      "cell_type": "code",
      "source": [
        "class Employee:\n",
        "  def __init__(self,name):\n",
        "    self.name=name\n",
        "  def __len__(self): #\n",
        "    i=0;\n",
        "    for c in self.name:\n",
        "      i=i+1\n",
        "    return i\n",
        "  def __str__(self):\n",
        "    return f\"The name of the Employee is {self.name} str\"\n",
        "  def __repr__(self):\n",
        "    return f\"The name of the Employee is {self.name} rpr\"\n",
        "  def __call__(self):\n",
        "    return \"Hi this is bindu\"\n",
        "e=Employee(\"Harishchandra\")\n",
        "print(len(e))\n",
        "print(str(e))\n",
        "print(repr(e))\n",
        "e()"
      ],
      "metadata": {
        "colab": {
          "base_uri": "https://localhost:8080/",
          "height": 88
        },
        "id": "ZL-l2O3IU5_Y",
        "outputId": "236a977b-112b-4954-93b7-6a33eb06d34e"
      },
      "execution_count": 34,
      "outputs": [
        {
          "output_type": "stream",
          "name": "stdout",
          "text": [
            "13\n",
            "The name of the Employee is Harishchandra str\n",
            "The name of the Employee is Harishchandra rpr\n"
          ]
        },
        {
          "output_type": "execute_result",
          "data": {
            "text/plain": [
              "'Hi this is bindu'"
            ],
            "application/vnd.google.colaboratory.intrinsic+json": {
              "type": "string"
            }
          },
          "metadata": {},
          "execution_count": 34
        }
      ]
    }
  ]
}