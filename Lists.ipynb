{
  "nbformat": 4,
  "nbformat_minor": 0,
  "metadata": {
    "colab": {
      "provenance": [],
      "authorship_tag": "ABX9TyONtZEenGKN0wEzRxDtjaZv",
      "include_colab_link": true
    },
    "kernelspec": {
      "name": "python3",
      "display_name": "Python 3"
    },
    "language_info": {
      "name": "python"
    }
  },
  "cells": [
    {
      "cell_type": "markdown",
      "metadata": {
        "id": "view-in-github",
        "colab_type": "text"
      },
      "source": [
        "<a href=\"https://colab.research.google.com/github/Bindu-Samala/Python-Basics/blob/main/Lists.ipynb\" target=\"_parent\"><img src=\"https://colab.research.google.com/assets/colab-badge.svg\" alt=\"Open In Colab\"/></a>"
      ]
    },
    {
      "cell_type": "markdown",
      "source": [
        "List"
      ],
      "metadata": {
        "id": "coeogSqpIkGa"
      }
    },
    {
      "cell_type": "markdown",
      "source": [
        "Lists are mutable,elements are separated by comma,can contain multiple data types elements\n"
      ],
      "metadata": {
        "id": "Fo99RB6hSh7U"
      }
    },
    {
      "cell_type": "code",
      "execution_count": 8,
      "metadata": {
        "id": "q-0O0OK8IUgK",
        "colab": {
          "base_uri": "https://localhost:8080/"
        },
        "outputId": "b888a171-8e7c-4f2b-adec-daf1706fa8b0"
      },
      "outputs": [
        {
          "output_type": "stream",
          "name": "stdout",
          "text": [
            "[3, 5, 6, 9, 0, 0, 1]\n",
            "<class 'list'>\n",
            "6\n",
            "0\n",
            "[3, 5, 6, 9, 0, 0, 1]\n"
          ]
        }
      ],
      "source": [
        "l=[3,5,6,9,0,0,1]\n",
        "print(l)\n",
        "print(type(l))\n",
        "#positive indexing\n",
        "print(l[2])\n",
        "#negative indexing\n",
        "print(l[-3])\n",
        "#print all\n",
        "print(l[:])\n"
      ]
    },
    {
      "cell_type": "code",
      "source": [
        "#checking an element present in list\n",
        "a=[\"Bindu\",\"Hi\",9,3,5]\n",
        "if 9 in a:\n",
        "  print(\"Yes\")\n",
        "else:\n",
        "  print(\"No\")"
      ],
      "metadata": {
        "colab": {
          "base_uri": "https://localhost:8080/"
        },
        "id": "3pG8puoATfUL",
        "outputId": "461c4de6-63c4-443c-d066-b695da880715"
      },
      "execution_count": 7,
      "outputs": [
        {
          "output_type": "stream",
          "name": "stdout",
          "text": [
            "Yes\n"
          ]
        }
      ]
    },
    {
      "cell_type": "markdown",
      "source": [
        "List Comprehension\n",
        "they are used for creating new lists from other iterables like lists,tuples,dictionaries,sets,a dn even in arrays and strings\n",
        "**Syntax**\n",
        "List=[Expression(item) for item in iterable if Condition\n",
        "]"
      ],
      "metadata": {
        "id": "Sp2iXiOFVBHd"
      }
    },
    {
      "cell_type": "code",
      "source": [
        "lst=[i*i for i in range(4)]\n",
        "print(lst)\n",
        "lst=[i*i for i in range(10) if i%2==0]\n",
        "print(lst)"
      ],
      "metadata": {
        "colab": {
          "base_uri": "https://localhost:8080/"
        },
        "id": "h5SfdKeWTuno",
        "outputId": "3168f6d5-1bb1-456d-b840-eb99d9de2ecc"
      },
      "execution_count": 12,
      "outputs": [
        {
          "output_type": "stream",
          "name": "stdout",
          "text": [
            "[0, 1, 4, 9]\n",
            "[0, 4, 16, 36, 64]\n"
          ]
        }
      ]
    },
    {
      "cell_type": "markdown",
      "source": [
        "List Methods\n"
      ],
      "metadata": {
        "id": "fGHZvZG0V_dk"
      }
    },
    {
      "cell_type": "code",
      "source": [
        "#appending element to list\n",
        "l=[1,8,4,2,1,7,9]\n",
        "l.append(100)\n",
        "print(l)\n",
        "#sort the list\n",
        "l.sort()\n",
        "print(l)\n",
        "l.sort(reverse=True)\n",
        "print(l)\n",
        "#reverse the list\n",
        "l=[3,6,9,1,5]\n",
        "l.reverse()\n",
        "print(l)\n"
      ],
      "metadata": {
        "colab": {
          "base_uri": "https://localhost:8080/"
        },
        "id": "MeR0MS3DWB56",
        "outputId": "961304fd-3a87-4351-e476-725df824c0f1"
      },
      "execution_count": 19,
      "outputs": [
        {
          "output_type": "stream",
          "name": "stdout",
          "text": [
            "[1, 8, 4, 2, 1, 7, 9, 100]\n",
            "[1, 1, 2, 4, 7, 8, 9, 100]\n",
            "[100, 9, 8, 7, 4, 2, 1, 1]\n",
            "[5, 1, 9, 6, 3]\n"
          ]
        }
      ]
    },
    {
      "cell_type": "code",
      "source": [
        "#get the index of element in list\n",
        "#index() returns the first occuurence of element\n",
        "l=[11,2,2,2,2,2,1,1,1,1,3,4,5,6]\n",
        "print(l.index(3))\n",
        "#count() returns the number of items with the given value\n",
        "print(l.count(2))"
      ],
      "metadata": {
        "colab": {
          "base_uri": "https://localhost:8080/"
        },
        "id": "DazbgWOXXVSh",
        "outputId": "c29cb6a8-6c07-4f1e-a6de-12bf2615f697"
      },
      "execution_count": 21,
      "outputs": [
        {
          "output_type": "stream",
          "name": "stdout",
          "text": [
            "10\n",
            "5\n"
          ]
        }
      ]
    },
    {
      "cell_type": "code",
      "source": [
        "#copy() returns copy of the list.This can be done to perform operations on the lsit with out modifying the list\n",
        "l=[11,2,3,5,2,6,8,9]\n",
        "print(l)\n",
        "# m=l\n",
        "# m[0]=0\n",
        "print(l)\n",
        "k=l.copy()\n",
        "print(l,k)"
      ],
      "metadata": {
        "colab": {
          "base_uri": "https://localhost:8080/"
        },
        "id": "_hh3VcBEYiYf",
        "outputId": "036a4bb1-1195-41d8-e68c-b7679897ba40"
      },
      "execution_count": 23,
      "outputs": [
        {
          "output_type": "stream",
          "name": "stdout",
          "text": [
            "[11, 2, 3, 5, 2, 6, 8, 9]\n",
            "[11, 2, 3, 5, 2, 6, 8, 9]\n",
            "[11, 2, 3, 5, 2, 6, 8, 9] [11, 2, 3, 5, 2, 6, 8, 9]\n"
          ]
        }
      ]
    },
    {
      "cell_type": "code",
      "source": [
        "#insert() method inserts an item at the given index\n",
        "l=[2,3,4,5,6]\n",
        "l.insert(0,1)\n",
        "print(l)\n",
        "#extend() adds an entire list to any other collection datatype(set,tuple,dictonary) to exixting list\n",
        "m=[78,6,7,34]\n",
        "l.extend(m)\n",
        "print(l)\n",
        "#concatenate two lists\n",
        "l=[2,3,4,5,6]\n",
        "k=l+m\n",
        "print(k)\n",
        "print(l)"
      ],
      "metadata": {
        "colab": {
          "base_uri": "https://localhost:8080/"
        },
        "id": "7gSQptP_ZG_n",
        "outputId": "dc043350-8420-4d98-dff8-bee7e4545d34"
      },
      "execution_count": 27,
      "outputs": [
        {
          "output_type": "stream",
          "name": "stdout",
          "text": [
            "[1, 2, 3, 4, 5, 6]\n",
            "[1, 2, 3, 4, 5, 6, 78, 6, 7, 34]\n",
            "[2, 3, 4, 5, 6, 78, 6, 7, 34]\n",
            "[2, 3, 4, 5, 6]\n"
          ]
        }
      ]
    },
    {
      "cell_type": "code",
      "source": [
        "#remove last element from list using pop()\n",
        "m=[78,6,7,34]\n",
        "m.pop()\n",
        "print(m)\n",
        "#remove any element by index\n",
        "m.pop(2)\n",
        "print(m)"
      ],
      "metadata": {
        "colab": {
          "base_uri": "https://localhost:8080/"
        },
        "id": "zqofTSwJa_Ld",
        "outputId": "69054ceb-ab69-4fe6-bffe-120b8d2a358c"
      },
      "execution_count": 30,
      "outputs": [
        {
          "output_type": "stream",
          "name": "stdout",
          "text": [
            "[78, 6, 7]\n",
            "[78, 6]\n"
          ]
        }
      ]
    }
  ]
}