{
  "nbformat": 4,
  "nbformat_minor": 0,
  "metadata": {
    "colab": {
      "provenance": [],
      "authorship_tag": "ABX9TyP+r8KGgU2nGcPsi56xNdlA",
      "include_colab_link": true
    },
    "kernelspec": {
      "name": "python3",
      "display_name": "Python 3"
    },
    "language_info": {
      "name": "python"
    }
  },
  "cells": [
    {
      "cell_type": "markdown",
      "metadata": {
        "id": "view-in-github",
        "colab_type": "text"
      },
      "source": [
        "<a href=\"https://colab.research.google.com/github/Bindu-Samala/Python-Basics/blob/main/MapReduceFilter.ipynb\" target=\"_parent\"><img src=\"https://colab.research.google.com/assets/colab-badge.svg\" alt=\"Open In Colab\"/></a>"
      ]
    },
    {
      "cell_type": "markdown",
      "source": [
        "lambda function is a small anonymous function with out a name.It is defined using the lambda keyword\n",
        "\n",
        "lambda arguments:expression"
      ],
      "metadata": {
        "id": "ghs5L9RZ39T0"
      }
    },
    {
      "cell_type": "code",
      "execution_count": 6,
      "metadata": {
        "colab": {
          "base_uri": "https://localhost:8080/"
        },
        "id": "yDr3Srp83ciY",
        "outputId": "9dcddf7b-d3ef-422f-ee09-dfb95ba336a8"
      },
      "outputs": [
        {
          "output_type": "stream",
          "name": "stdout",
          "text": [
            "10\n",
            "125\n",
            "5.0\n"
          ]
        }
      ],
      "source": [
        "# def double(x):\n",
        "#   return x*2\n",
        "double=lambda x:x*2\n",
        "print(double(5))\n",
        "cube=lambda x:x*x*x\n",
        "print(cube(5))\n",
        "avg=lambda x,y:(x+y)/2\n",
        "print(avg(4,6))\n"
      ]
    },
    {
      "cell_type": "markdown",
      "source": [
        "The map function applies a function to each element in a sequence and returns a new sequence containing the transformed elements.\n",
        "\n",
        "syntax:\n",
        "\n",
        "map(function,iterable)\n",
        "\n"
      ],
      "metadata": {
        "id": "u0YZckzi6PCd"
      }
    },
    {
      "cell_type": "code",
      "source": [
        "def cube(x):\n",
        "  return x*x*x\n",
        "l=[1,2,4,6,9,3]\n",
        "newl=list(map(cube,l))\n",
        "print(newl)"
      ],
      "metadata": {
        "colab": {
          "base_uri": "https://localhost:8080/"
        },
        "id": "vfFs7zVu4dSA",
        "outputId": "bd73d811-45e6-4626-f354-ef01047f4e2b"
      },
      "execution_count": 11,
      "outputs": [
        {
          "output_type": "stream",
          "name": "stdout",
          "text": [
            "[1, 8, 64, 216, 729, 27]\n"
          ]
        }
      ]
    },
    {
      "cell_type": "markdown",
      "source": [
        "filter function filters a sequence of elements based on a given predicate(a function that returns a boolean value) and returns a new sequence containing only the elements that meet the predicate.\n",
        "\n",
        "syntax:\n",
        "\n",
        "filter(predicate,iterable)"
      ],
      "metadata": {
        "id": "4gRPzK2s769K"
      }
    },
    {
      "cell_type": "code",
      "source": [
        "def filter_function(a):\n",
        "  return a>4\n",
        "newnewl=list(filter(filter_function,newl))\n",
        "print(newnewl)\n",
        "\n",
        "a=list(filter(lambda x:x>10,newl))\n",
        "print(a)\n",
        "\n"
      ],
      "metadata": {
        "colab": {
          "base_uri": "https://localhost:8080/"
        },
        "id": "bWsyUcfC8W9H",
        "outputId": "f72c0771-5cff-426c-f22e-b9edfc6f7d44"
      },
      "execution_count": 13,
      "outputs": [
        {
          "output_type": "stream",
          "name": "stdout",
          "text": [
            "[8, 64, 216, 729, 27]\n",
            "[64, 216, 729, 27]\n"
          ]
        }
      ]
    },
    {
      "cell_type": "markdown",
      "source": [
        "reduce function is a higher order function that applies a function to a sequence and returns a single value.\n",
        "\n",
        "syntax:\n",
        "\n",
        "reduce(function,iterable)"
      ],
      "metadata": {
        "id": "TbkK-UTG9iEU"
      }
    },
    {
      "cell_type": "code",
      "source": [
        "from functools import reduce\n",
        "numbers=[1,2,3,4,5]\n",
        "sum=reduce(lambda x,y:x+y,numbers)\n",
        "print(sum)\n"
      ],
      "metadata": {
        "colab": {
          "base_uri": "https://localhost:8080/"
        },
        "id": "bY1hWDq39hpN",
        "outputId": "e57776f0-1699-4adf-d7d0-052a154047fb"
      },
      "execution_count": 15,
      "outputs": [
        {
          "output_type": "stream",
          "name": "stdout",
          "text": [
            "15\n"
          ]
        }
      ]
    }
  ]
}