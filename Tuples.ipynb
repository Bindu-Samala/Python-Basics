{
  "nbformat": 4,
  "nbformat_minor": 0,
  "metadata": {
    "colab": {
      "provenance": [],
      "authorship_tag": "ABX9TyPw9GRSS7UTjqTT51iHJVwN",
      "include_colab_link": true
    },
    "kernelspec": {
      "name": "python3",
      "display_name": "Python 3"
    },
    "language_info": {
      "name": "python"
    }
  },
  "cells": [
    {
      "cell_type": "markdown",
      "metadata": {
        "id": "view-in-github",
        "colab_type": "text"
      },
      "source": [
        "<a href=\"https://colab.research.google.com/github/Bindu-Samala/Python-Basics/blob/main/Tuples.ipynb\" target=\"_parent\"><img src=\"https://colab.research.google.com/assets/colab-badge.svg\" alt=\"Open In Colab\"/></a>"
      ]
    },
    {
      "cell_type": "markdown",
      "source": [
        "Tuples are immutable  and contains elements of different data types"
      ],
      "metadata": {
        "id": "WyPbLUW_dPs-"
      }
    },
    {
      "cell_type": "code",
      "execution_count": 2,
      "metadata": {
        "colab": {
          "base_uri": "https://localhost:8080/"
        },
        "id": "TBo3YC8mb46O",
        "outputId": "a61834be-0fd9-4781-acdb-7e8a2e958e69"
      },
      "outputs": [
        {
          "output_type": "stream",
          "name": "stdout",
          "text": [
            "<class 'tuple'> (1, 4, 5, 'green')\n",
            "<class 'tuple'> (1,)\n"
          ]
        }
      ],
      "source": [
        "tup=(1,4,5,\"green\")\n",
        "print(type(tup),tup)\n",
        "tupl=(1,)\n",
        "# tupl[0]=2 gives error\n",
        "print(type(tupl),tupl)\n"
      ]
    },
    {
      "cell_type": "code",
      "source": [
        "#Accessing the elements\n",
        "t=(7,6,549,32)\n",
        "print(t[0],t[1],t[2])\n",
        "print(t[-1])"
      ],
      "metadata": {
        "colab": {
          "base_uri": "https://localhost:8080/"
        },
        "id": "FmN0UWpieJ1p",
        "outputId": "1d80f202-43ac-488e-ccc3-235eee84f3c9"
      },
      "execution_count": 4,
      "outputs": [
        {
          "output_type": "stream",
          "name": "stdout",
          "text": [
            "7 6 549\n",
            "32\n"
          ]
        }
      ]
    },
    {
      "cell_type": "code",
      "source": [
        "if 32 in t:\n",
        "  print(\"Yes\")\n",
        "t1=t[1:3]\n",
        "print(t1)\n",
        "print(t[:])"
      ],
      "metadata": {
        "colab": {
          "base_uri": "https://localhost:8080/"
        },
        "id": "GHTyRvZKeeqt",
        "outputId": "f9a59037-ef32-4896-cb2c-172434e2b9d9"
      },
      "execution_count": 9,
      "outputs": [
        {
          "output_type": "stream",
          "name": "stdout",
          "text": [
            "Yes\n",
            "(6, 549)\n",
            "(7, 6, 549, 32)\n"
          ]
        }
      ]
    },
    {
      "cell_type": "markdown",
      "source": [
        "Tuples Methods\n"
      ],
      "metadata": {
        "id": "0fO7zG7ye5qK"
      }
    },
    {
      "cell_type": "code",
      "source": [
        "#in order to manipulate tuples,they can be changed to list and perform operations and convert back to tuples\n",
        "countries=(\"Spain\",\"Italy\",\"India\",\"England\")\n",
        "temp=list(countries)\n",
        "temp.append(\"Russia\")\n",
        "temp.pop(3)\n",
        "countries=tuple(temp)\n",
        "print(countries)\n"
      ],
      "metadata": {
        "colab": {
          "base_uri": "https://localhost:8080/"
        },
        "id": "dfa91xQWe8XX",
        "outputId": "f9087e5d-3bab-4c04-c2d4-808359a65171"
      },
      "execution_count": 11,
      "outputs": [
        {
          "output_type": "stream",
          "name": "stdout",
          "text": [
            "('Spain', 'Italy', 'India', 'Russia')\n"
          ]
        }
      ]
    },
    {
      "cell_type": "code",
      "source": [
        "#merge two tuples\n",
        "countries1=(\"Vietnam\",\"China\",\"India\")\n",
        "s=countries+countries1\n",
        "print(s)\n",
        "#count() method returns the numbercof times the given element appears in the tuple\n",
        "print(s.count(\"India\"))\n",
        "#index() returns the first occrrence of the given element\n",
        "print(s.index(\"India\"))\n",
        "#len()\n",
        "print(len(s))\n"
      ],
      "metadata": {
        "colab": {
          "base_uri": "https://localhost:8080/"
        },
        "id": "hdPbndzzfr9U",
        "outputId": "8bcb17f7-e53f-4e5e-9f6d-4f45876cf386"
      },
      "execution_count": 17,
      "outputs": [
        {
          "output_type": "stream",
          "name": "stdout",
          "text": [
            "('Spain', 'Italy', 'India', 'Russia', 'Vietnam', 'China', 'India')\n",
            "2\n",
            "2\n",
            "7\n"
          ]
        }
      ]
    }
  ]
}