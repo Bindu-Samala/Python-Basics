{
  "nbformat": 4,
  "nbformat_minor": 0,
  "metadata": {
    "colab": {
      "provenance": [],
      "authorship_tag": "ABX9TyOU7Ff0m2mruRgtU2UcN5Gd",
      "include_colab_link": true
    },
    "kernelspec": {
      "name": "python3",
      "display_name": "Python 3"
    },
    "language_info": {
      "name": "python"
    }
  },
  "cells": [
    {
      "cell_type": "markdown",
      "metadata": {
        "id": "view-in-github",
        "colab_type": "text"
      },
      "source": [
        "<a href=\"https://colab.research.google.com/github/Bindu-Samala/Python-Basics/blob/main/Sets.ipynb\" target=\"_parent\"><img src=\"https://colab.research.google.com/assets/colab-badge.svg\" alt=\"Open In Colab\"/></a>"
      ]
    },
    {
      "cell_type": "markdown",
      "source": [
        "\n",
        "Duplicate elements are not allowed,Sets are unchangeable,meaning you can not change the items of the set once created.\n",
        "Sets are unordered collection of data items\n",
        "\n",
        "\n",
        "\n",
        "\n"
      ],
      "metadata": {
        "id": "YoU2zJXiwCTY"
      }
    },
    {
      "cell_type": "code",
      "execution_count": 4,
      "metadata": {
        "colab": {
          "base_uri": "https://localhost:8080/"
        },
        "id": "eFFERrYOu4pl",
        "outputId": "08298092-5a2a-4b73-e471-d0028f0d2ee3"
      },
      "outputs": [
        {
          "output_type": "stream",
          "name": "stdout",
          "text": [
            "{False, 2, 3, 4, 'apple'}\n"
          ]
        }
      ],
      "source": [
        "s={2,4,2,3,False,\"apple\"}\n",
        "print(s)"
      ]
    },
    {
      "cell_type": "code",
      "source": [
        "s={}\n",
        "print(type(s))\n",
        "#to make an empty set\n",
        "a=set()\n",
        "print(type(a))"
      ],
      "metadata": {
        "colab": {
          "base_uri": "https://localhost:8080/"
        },
        "id": "gPPY_aHcxA9r",
        "outputId": "5fa6c98b-1fb0-4b36-eeae-fed60c5009ec"
      },
      "execution_count": 6,
      "outputs": [
        {
          "output_type": "stream",
          "name": "stdout",
          "text": [
            "<class 'dict'>\n",
            "<class 'set'>\n"
          ]
        }
      ]
    },
    {
      "cell_type": "markdown",
      "source": [
        "Accessing the set elements"
      ],
      "metadata": {
        "id": "CSm6lPw-xY_K"
      }
    },
    {
      "cell_type": "code",
      "source": [
        "a={1,4,7,3,5,7}\n",
        "for i in a:\n",
        "  print(i)"
      ],
      "metadata": {
        "colab": {
          "base_uri": "https://localhost:8080/"
        },
        "id": "EC9yVNU3xbsn",
        "outputId": "b3646da0-1d6b-4e74-9b73-67d57e6bad28"
      },
      "execution_count": 12,
      "outputs": [
        {
          "output_type": "stream",
          "name": "stdout",
          "text": [
            "1\n",
            "3\n",
            "4\n",
            "5\n",
            "7\n"
          ]
        }
      ]
    },
    {
      "cell_type": "markdown",
      "source": [
        "Set Methods"
      ],
      "metadata": {
        "id": "56oqhlEWx7Z-"
      }
    },
    {
      "cell_type": "code",
      "source": [
        "#union() method returns anew set whereas update() method adds item into the existing set\n",
        "s1={1,2,3,4,5,6}\n",
        "s2={6,7,8,9,10}\n",
        "print(s1.union(s2),s1,s2)\n",
        "s1.update(s2)\n",
        "print(s1)\n",
        "#intersections() of two sets\n",
        "print(s1.intersection(s2))\n",
        "#symetric_difference symetric_difference_update()\n",
        "print(s1.symmetric_difference(s2))\n"
      ],
      "metadata": {
        "colab": {
          "base_uri": "https://localhost:8080/"
        },
        "id": "Ngq9gN38x-jK",
        "outputId": "e992a133-2690-4dec-e905-5646deabf9a3"
      },
      "execution_count": 18,
      "outputs": [
        {
          "output_type": "stream",
          "name": "stdout",
          "text": [
            "{1, 2, 3, 4, 5, 6, 7, 8, 9, 10} {1, 2, 3, 4, 5, 6} {6, 7, 8, 9, 10}\n",
            "{1, 2, 3, 4, 5, 6, 7, 8, 9, 10}\n",
            "{6, 7, 8, 9, 10}\n",
            "{1, 2, 3, 4, 5}\n"
          ]
        }
      ]
    },
    {
      "cell_type": "code",
      "source": [
        "#difference() difference_update()\n",
        "c1={\"A\",\"B\",\"C\",\"D\"}\n",
        "c2={\"D\",\"E\",\"F\"}\n",
        "print(c1.difference(c2))"
      ],
      "metadata": {
        "colab": {
          "base_uri": "https://localhost:8080/"
        },
        "id": "8FO6sg2rznLb",
        "outputId": "248fa737-50fb-46a3-9ce0-69a05fbc27b0"
      },
      "execution_count": 19,
      "outputs": [
        {
          "output_type": "stream",
          "name": "stdout",
          "text": [
            "{'B', 'A', 'C'}\n"
          ]
        }
      ]
    },
    {
      "cell_type": "code",
      "source": [
        "a={1,2,3,5,6,7}\n",
        "b={2,3,6,7}\n",
        "print(a.isdisjoint(b))\n",
        "print(a.issuperset(b))\n",
        "print(b.issubset(a))"
      ],
      "metadata": {
        "colab": {
          "base_uri": "https://localhost:8080/"
        },
        "id": "wMH4med-0TvK",
        "outputId": "c625e52b-3841-405a-9446-3d3859eea873"
      },
      "execution_count": 22,
      "outputs": [
        {
          "output_type": "stream",
          "name": "stdout",
          "text": [
            "False\n",
            "True\n",
            "True\n"
          ]
        }
      ]
    },
    {
      "cell_type": "code",
      "source": [
        "#add() to add one element to set\n",
        "a={2,3,4,5,6,7}\n",
        "a.add(23)\n",
        "print(a)\n",
        "#update() to add more than one element\n",
        "a.update({22,24,25})\n",
        "print(a)\n",
        "#remove() raises an error if element not present in set whereas discard not\n",
        "a.remove(24)\n",
        "print(a)\n",
        "#pop() to remove last element(as sets are unordered ran dom value is deleted)\n",
        "a.pop()\n",
        "print(a)"
      ],
      "metadata": {
        "colab": {
          "base_uri": "https://localhost:8080/"
        },
        "id": "KDoFv3YD0yRB",
        "outputId": "6844cd05-7d7d-4d27-b713-e5fd4e5bd849"
      },
      "execution_count": 31,
      "outputs": [
        {
          "output_type": "stream",
          "name": "stdout",
          "text": [
            "{2, 3, 4, 5, 6, 7, 23}\n",
            "{2, 3, 4, 5, 6, 7, 22, 23, 24, 25}\n",
            "{2, 3, 4, 5, 6, 7, 22, 23, 25}\n",
            "{3, 4, 5, 6, 7, 22, 23, 25}\n"
          ]
        }
      ]
    },
    {
      "cell_type": "code",
      "source": [
        "#del is a keyword which deletes the entire set\n",
        "a={2,3,4,54,6}\n",
        "del a\n",
        "#print(a)\n",
        "#clear() removes all items in set and returns empty set\n",
        "a={1,2,3,4,5,67,8,9}\n",
        "a.clear()\n",
        "print(a)"
      ],
      "metadata": {
        "colab": {
          "base_uri": "https://localhost:8080/"
        },
        "id": "b1YUdQy32G1O",
        "outputId": "97ac5e9f-eddf-4f98-c2e6-be0e859aab22"
      },
      "execution_count": 36,
      "outputs": [
        {
          "output_type": "stream",
          "name": "stdout",
          "text": [
            "set()\n"
          ]
        }
      ]
    }
  ]
}