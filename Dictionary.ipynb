{
  "nbformat": 4,
  "nbformat_minor": 0,
  "metadata": {
    "colab": {
      "provenance": [],
      "authorship_tag": "ABX9TyO17BnPfXA6c2wMJjD9pwvT",
      "include_colab_link": true
    },
    "kernelspec": {
      "name": "python3",
      "display_name": "Python 3"
    },
    "language_info": {
      "name": "python"
    }
  },
  "cells": [
    {
      "cell_type": "markdown",
      "metadata": {
        "id": "view-in-github",
        "colab_type": "text"
      },
      "source": [
        "<a href=\"https://colab.research.google.com/github/Bindu-Samala/Python-Basics/blob/main/Dictionary.ipynb\" target=\"_parent\"><img src=\"https://colab.research.google.com/assets/colab-badge.svg\" alt=\"Open In Colab\"/></a>"
      ]
    },
    {
      "cell_type": "markdown",
      "source": [
        "dictionary is ordered"
      ],
      "metadata": {
        "id": "KiuyadlA58-K"
      }
    },
    {
      "cell_type": "code",
      "execution_count": 4,
      "metadata": {
        "colab": {
          "base_uri": "https://localhost:8080/"
        },
        "id": "ETzEYygA3eWA",
        "outputId": "88271b8d-0f09-4536-eb17-3f01225e5eba"
      },
      "outputs": [
        {
          "output_type": "stream",
          "name": "stdout",
          "text": [
            "{'name': 'Bindu', 'College': 'NITRR'}\n",
            "Bindu\n",
            "Bindu\n",
            "None\n"
          ]
        }
      ],
      "source": [
        "dic={\n",
        "    \"name\":\"Bindu\",\n",
        "    \"College\":\"NITRR\"\n",
        "}\n",
        "print(dic)\n",
        "print(dic[\"name\"])\n",
        "print(dic.get(\"name\"))\n",
        "print(dic.get(\"age\"))"
      ]
    },
    {
      "cell_type": "code",
      "source": [
        "#Accessing multiple values\n",
        "dic={\n",
        "    \"name\":\"Bindu\",\n",
        "    \"College\":\"NITRR\"\n",
        "}\n",
        "print(dic.keys())\n",
        "print(dic.values())\n",
        "\n",
        "for key in dic.keys():\n",
        "  print(dic[key])\n"
      ],
      "metadata": {
        "colab": {
          "base_uri": "https://localhost:8080/"
        },
        "id": "hvHr_nWu5tP_",
        "outputId": "c69ca4e4-0e7b-4b6c-d942-276466d7ed08"
      },
      "execution_count": 8,
      "outputs": [
        {
          "output_type": "stream",
          "name": "stdout",
          "text": [
            "dict_keys(['name', 'College'])\n",
            "dict_values(['Bindu', 'NITRR'])\n",
            "Bindu\n",
            "NITRR\n"
          ]
        }
      ]
    },
    {
      "cell_type": "code",
      "source": [
        "#Accessing key value pairs\n",
        "dic={\n",
        "    \"name\":\"Bindu\",\n",
        "    \"College\":\"NITRR\"\n",
        "}\n",
        "print(dic.items())\n",
        "for key,value in dic.items():\n",
        "  print(key,value)\n"
      ],
      "metadata": {
        "colab": {
          "base_uri": "https://localhost:8080/"
        },
        "id": "xZMoMMAG71QV",
        "outputId": "c3094809-63b8-4a41-bc69-17d5f798c48b"
      },
      "execution_count": 12,
      "outputs": [
        {
          "output_type": "stream",
          "name": "stdout",
          "text": [
            "dict_items([('name', 'Bindu'), ('College', 'NITRR')])\n",
            "name Bindu\n",
            "College NITRR\n"
          ]
        }
      ]
    },
    {
      "cell_type": "markdown",
      "source": [
        "Dictionary Methods"
      ],
      "metadata": {
        "id": "R02kc-y48xze"
      }
    },
    {
      "cell_type": "code",
      "source": [
        "#update() method updates the value of key provided to it if the item already exists ,else it creates new key value pair\n",
        "d={122:34,23:34,345:34,676:234}\n",
        "e={2:1,3:2}\n",
        "d.update(e)\n",
        "print(d)\n",
        "#clear() removes all and creates empty dict\n",
        "d.clear()\n",
        "print(d)\n",
        "d={122:34,23:34,345:34,676:234}\n",
        "#pop() removes the key-value pair whose key is passed as a parameter\n",
        "d.pop(122)\n",
        "print(d)"
      ],
      "metadata": {
        "colab": {
          "base_uri": "https://localhost:8080/"
        },
        "id": "uDsi3BUV8wFS",
        "outputId": "3bbe7164-fbe4-4afa-c395-3afa95643e3d"
      },
      "execution_count": 15,
      "outputs": [
        {
          "output_type": "stream",
          "name": "stdout",
          "text": [
            "{122: 34, 23: 34, 345: 34, 676: 234, 2: 1, 3: 2}\n",
            "{}\n",
            "{23: 34, 345: 34, 676: 234}\n"
          ]
        }
      ]
    },
    {
      "cell_type": "code",
      "source": [
        "#popitem() removes last item from dict\n",
        "d={122:34,23:34,345:34,676:234}\n",
        "d.popitem()\n",
        "print(d)\n",
        "#del to memove dictionary\n",
        "del d\n",
        ""
      ],
      "metadata": {
        "colab": {
          "base_uri": "https://localhost:8080/"
        },
        "id": "izx0vhpm7NbZ",
        "outputId": "1bcf5725-0495-418c-9c35-e031a643fe26"
      },
      "execution_count": 16,
      "outputs": [
        {
          "output_type": "stream",
          "name": "stdout",
          "text": [
            "{122: 34, 23: 34, 345: 34}\n"
          ]
        }
      ]
    }
  ]
}