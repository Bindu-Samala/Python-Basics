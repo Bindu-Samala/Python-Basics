{
  "nbformat": 4,
  "nbformat_minor": 0,
  "metadata": {
    "colab": {
      "provenance": [],
      "authorship_tag": "ABX9TyPnA1iaE/eZkIZbMUNxf3QO",
      "include_colab_link": true
    },
    "kernelspec": {
      "name": "python3",
      "display_name": "Python 3"
    },
    "language_info": {
      "name": "python"
    }
  },
  "cells": [
    {
      "cell_type": "markdown",
      "metadata": {
        "id": "view-in-github",
        "colab_type": "text"
      },
      "source": [
        "<a href=\"https://colab.research.google.com/github/Bindu-Samala/Python-Basics/blob/main/Day3.ipynb\" target=\"_parent\"><img src=\"https://colab.research.google.com/assets/colab-badge.svg\" alt=\"Open In Colab\"/></a>"
      ]
    },
    {
      "cell_type": "markdown",
      "source": [
        "If-Else Statements\n"
      ],
      "metadata": {
        "id": "LAryTkL4P5oR"
      }
    },
    {
      "cell_type": "code",
      "execution_count": null,
      "metadata": {
        "colab": {
          "base_uri": "https://localhost:8080/"
        },
        "id": "YnKtppCQPyIs",
        "outputId": "517ea841-8e8b-44c1-dd10-1534056306ca"
      },
      "outputs": [
        {
          "output_type": "stream",
          "name": "stdout",
          "text": [
            "Enter your age 14\n",
            "your age is:  14\n"
          ]
        }
      ],
      "source": [
        "a=int(input(\"Enter your age \"))\n",
        "print(\"your age is: \",a)\n",
        "if(a>18):\n",
        "  print(\"You can drive\")\n",
        "elif(a==18):\n",
        "  print(\"Drive with care\")\n",
        "else:\n",
        "  print(\"You cannot drive\")"
      ]
    },
    {
      "cell_type": "markdown",
      "source": [
        "Nested if statements"
      ],
      "metadata": {
        "id": "rlQBJoSCRbN5"
      }
    },
    {
      "cell_type": "code",
      "source": [
        "num=18\n",
        "if(num<0):\n",
        "  print(\"Number is negative\")\n",
        "elif(num>0):\n",
        "    if(num<=10):\n",
        "      print(\"Number is between 1-10\")\n",
        "    elif(num>10 and num<=20):\n",
        "      print(\"Number is between 11-20\")\n",
        "    else:\n",
        "      print(\"Number is greater than 20\")\n",
        "else:\n",
        "  print(\"Number is zero\")"
      ],
      "metadata": {
        "colab": {
          "base_uri": "https://localhost:8080/"
        },
        "id": "IoVktnm8RdnI",
        "outputId": "5abe1937-a0b2-4fd4-a79c-114af787afb7"
      },
      "execution_count": null,
      "outputs": [
        {
          "output_type": "stream",
          "name": "stdout",
          "text": [
            "Number is between 11-20\n"
          ]
        }
      ]
    },
    {
      "cell_type": "markdown",
      "source": [
        "Match Case Statements"
      ],
      "metadata": {
        "id": "bq1Ow8hDW2xd"
      }
    },
    {
      "cell_type": "code",
      "source": [
        "x=int(input(\"Enter the value of x\"))\n",
        "match x:\n",
        "  case 0:\n",
        "    print(\"x is zero\")\n",
        "  case 4:\n",
        "    print(\"Case is 4\")\n",
        "  case _ if x!=90:\n",
        "    print(\"x is not 90\")\n",
        "  case _ if x!=80:\n",
        "    print(\"x is not 80\")\n",
        "    print(x)\n",
        "\n"
      ],
      "metadata": {
        "colab": {
          "base_uri": "https://localhost:8080/"
        },
        "id": "dLbu-0AkW5Iy",
        "outputId": "7a197b06-83fd-4149-dac9-3fdd2d1b5f96"
      },
      "execution_count": null,
      "outputs": [
        {
          "output_type": "stream",
          "name": "stdout",
          "text": [
            "Enter the value of x90\n",
            "x is not 80\n",
            "90\n"
          ]
        }
      ]
    },
    {
      "cell_type": "markdown",
      "source": [
        "For Loop"
      ],
      "metadata": {
        "id": "qDTAMfcHYuPm"
      }
    },
    {
      "cell_type": "code",
      "source": [
        "name=\"Bindu\"\n",
        "for i in name:\n",
        "  print(i)\n",
        "colors=[\"Red\",\"Green\",\"Yellow\",\"Violet\",\"Black\"]\n",
        "for color in colors:\n",
        "  print(color)\n",
        "  for i in color:\n",
        "    print(i)\n",
        "#range(start:int,stop:int,step:int)\n",
        "for k in range(5):\n",
        "  print(k+1)\n",
        "for k in range(1,7):\n",
        "  print(k)\n",
        "for k in range(7,0,-2):\n",
        "  print(k)"
      ],
      "metadata": {
        "colab": {
          "base_uri": "https://localhost:8080/"
        },
        "id": "OD8vxa6EY6Vm",
        "outputId": "464d4876-7933-4114-9635-2432f5d339fd"
      },
      "execution_count": null,
      "outputs": [
        {
          "output_type": "stream",
          "name": "stdout",
          "text": [
            "B\n",
            "i\n",
            "n\n",
            "d\n",
            "u\n",
            "Red\n",
            "R\n",
            "e\n",
            "d\n",
            "Green\n",
            "G\n",
            "r\n",
            "e\n",
            "e\n",
            "n\n",
            "Yellow\n",
            "Y\n",
            "e\n",
            "l\n",
            "l\n",
            "o\n",
            "w\n",
            "Violet\n",
            "V\n",
            "i\n",
            "o\n",
            "l\n",
            "e\n",
            "t\n",
            "Black\n",
            "B\n",
            "l\n",
            "a\n",
            "c\n",
            "k\n",
            "1\n",
            "2\n",
            "3\n",
            "4\n",
            "5\n",
            "1\n",
            "2\n",
            "3\n",
            "4\n",
            "5\n",
            "6\n",
            "7\n",
            "5\n",
            "3\n",
            "1\n"
          ]
        }
      ]
    },
    {
      "cell_type": "markdown",
      "source": [
        "While Loop\n"
      ],
      "metadata": {
        "id": "g70PyCE-b6CI"
      }
    },
    {
      "cell_type": "code",
      "source": [
        "i=0\n",
        "while(i<3 and i>=0):\n",
        "  print(i)\n",
        "  i=i+1\n",
        "i=4\n",
        "while(i>0):\n",
        "  print(i)\n",
        "  i=i-1\n",
        "else: #when while loop condition is false,else is executed\n",
        "   print(\"I became zero\")\n"
      ],
      "metadata": {
        "colab": {
          "base_uri": "https://localhost:8080/"
        },
        "id": "hhHOd22wb87N",
        "outputId": "e2d5e4b5-751a-4be8-a2dd-a80436536049"
      },
      "execution_count": null,
      "outputs": [
        {
          "output_type": "stream",
          "name": "stdout",
          "text": [
            "0\n",
            "1\n",
            "2\n",
            "4\n",
            "3\n",
            "2\n",
            "1\n",
            "I became zero\n"
          ]
        }
      ]
    },
    {
      "cell_type": "markdown",
      "source": [
        "Break - Continue Statements"
      ],
      "metadata": {
        "id": "Qs3VIo7Ud7q2"
      }
    },
    {
      "cell_type": "code",
      "source": [
        "for i in range(12):\n",
        "\n",
        "  if(i==10):\n",
        "    break\n",
        "  if(i==5):\n",
        "    continue\n",
        "  print(\"5 X\",i+1,\"=\",5 * (i+1))"
      ],
      "metadata": {
        "colab": {
          "base_uri": "https://localhost:8080/"
        },
        "id": "RYbr3PnFd_Xb",
        "outputId": "aac8852c-4bad-40d8-a354-3c01cf55d0d1"
      },
      "execution_count": null,
      "outputs": [
        {
          "output_type": "stream",
          "name": "stdout",
          "text": [
            "5 X 1 = 5\n",
            "5 X 2 = 10\n",
            "5 X 3 = 15\n",
            "5 X 4 = 20\n",
            "5 X 5 = 25\n",
            "5 X 7 = 35\n",
            "5 X 8 = 40\n",
            "5 X 9 = 45\n",
            "5 X 10 = 50\n"
          ]
        }
      ]
    }
  ]
}