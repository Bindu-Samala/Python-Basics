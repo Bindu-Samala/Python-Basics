{
  "nbformat": 4,
  "nbformat_minor": 0,
  "metadata": {
    "colab": {
      "provenance": [],
      "authorship_tag": "ABX9TyPXZFh4qLMlkkZcfS4ED0Jn",
      "include_colab_link": true
    },
    "kernelspec": {
      "name": "python3",
      "display_name": "Python 3"
    },
    "language_info": {
      "name": "python"
    }
  },
  "cells": [
    {
      "cell_type": "markdown",
      "metadata": {
        "id": "view-in-github",
        "colab_type": "text"
      },
      "source": [
        "<a href=\"https://colab.research.google.com/github/Bindu-Samala/Python-Basics/blob/main/OOPs.ipynb\" target=\"_parent\"><img src=\"https://colab.research.google.com/assets/colab-badge.svg\" alt=\"Open In Colab\"/></a>"
      ]
    },
    {
      "cell_type": "code",
      "execution_count": null,
      "metadata": {
        "id": "wEnsyAvRPmo5"
      },
      "outputs": [],
      "source": []
    },
    {
      "cell_type": "markdown",
      "source": [
        "Creating a class"
      ],
      "metadata": {
        "id": "jsk4FVDMT3VK"
      }
    },
    {
      "cell_type": "code",
      "source": [
        "class Person:\n",
        "  name=\"Bindu\"\n",
        "  occupation=\"SOftware Developer\"\n",
        "  networth=10\n",
        "  def info(self):\n",
        "    print(f\"{self.name} is a {self.occupation}\")\n",
        "a=Person()\n",
        "# a.name=\"Samala\"\n",
        "# a.occupation=\"writer\"\n",
        "print(a.name,a.occupation)\n",
        "a.info()"
      ],
      "metadata": {
        "colab": {
          "base_uri": "https://localhost:8080/"
        },
        "id": "to8wivRCT5K7",
        "outputId": "9d76d734-a3ce-47d3-a44a-bd7dccc706be"
      },
      "execution_count": 3,
      "outputs": [
        {
          "output_type": "stream",
          "name": "stdout",
          "text": [
            "Bindu SOftware Developer\n",
            "Bindu is a SOftware Developer\n"
          ]
        }
      ]
    },
    {
      "cell_type": "markdown",
      "source": [
        "The self parameter is reference to the current instance of the class,and is used to access the variables that belongs to the class"
      ],
      "metadata": {
        "id": "abVABEMfU9z-"
      }
    },
    {
      "cell_type": "markdown",
      "source": [
        "Constructor\n",
        "\n",
        "Default constructor:whenthe constructor doesn't accept any arguments from the object and has only one argument,self,in the constructor."
      ],
      "metadata": {
        "id": "PQenmHxFVvs2"
      }
    },
    {
      "cell_type": "code",
      "source": [
        "from os import name\n",
        "class Person:\n",
        "  # def __init__(self):\n",
        "  #   print(\"Default\")\n",
        "  def __init__(self,n,o):\n",
        "    print(\"Hey Hi\")\n",
        "    self.name=n\n",
        "    self.occ=o\n",
        "  def info(self):\n",
        "    print(f\"{self.name} is a {self.occ}\")\n",
        "\n",
        "a=Person(\"Bindu\",\"student\")\n",
        "b=Person(\"Divya\",\"HR\")\n",
        "#c=Person() gives error\n",
        "\n",
        "a.info()\n",
        "b.info()\n"
      ],
      "metadata": {
        "colab": {
          "base_uri": "https://localhost:8080/"
        },
        "id": "nIut_hkOVRhO",
        "outputId": "b1d654ea-7d9c-492f-fe30-710d1547642c"
      },
      "execution_count": 10,
      "outputs": [
        {
          "output_type": "stream",
          "name": "stdout",
          "text": [
            "Hey Hi\n",
            "Hey Hi\n",
            "Bindu is a student\n",
            "Divya is a HR\n"
          ]
        }
      ]
    },
    {
      "cell_type": "markdown",
      "source": [
        "Getters\n",
        "\n",
        "used to access the values of an object's properties\n",
        "\n",
        "they are defined using @property decorator"
      ],
      "metadata": {
        "id": "a7HeEttkcwZW"
      }
    },
    {
      "cell_type": "code",
      "source": [
        "class MyClass:\n",
        "  def __init__(self,value):\n",
        "    self._value=value\n",
        "  def show(self):\n",
        "    print(f\"Value is {self._value}\")\n",
        "  @property\n",
        "  def fvalue(self):\n",
        "    return self._value #_value is the property\n",
        "obj=MyClass(10)\n",
        "print(obj._value)\n",
        "print(obj.fvalue)\n",
        "\n",
        "obj.show()"
      ],
      "metadata": {
        "colab": {
          "base_uri": "https://localhost:8080/"
        },
        "id": "rhKOWxYUc5uc",
        "outputId": "e08383b2-bbd5-4223-8151-eb018eb85907"
      },
      "execution_count": 17,
      "outputs": [
        {
          "output_type": "stream",
          "name": "stdout",
          "text": [
            "10\n",
            "10\n",
            "Value is 10\n"
          ]
        }
      ]
    },
    {
      "cell_type": "markdown",
      "source": [
        "Setters\n",
        "\n",
        "@property_name.setter decorator is used to set the value\n"
      ],
      "metadata": {
        "id": "gFq9MoRFirbP"
      }
    },
    {
      "cell_type": "code",
      "source": [
        "class MyClass:\n",
        "  def __init__(self,value):\n",
        "    self._value=value\n",
        "  def show(self):\n",
        "    print(f\"Value is {self._value}\")\n",
        "\n",
        "  @property\n",
        "  def fvalue(self):\n",
        "    return self._value #_value is the property\n",
        "\n",
        "  @fvalue.setter\n",
        "  def fvalues(self,newvalue):\n",
        "    self._value=newvalue\n",
        "obj=MyClass(10)\n",
        "# obj._value=1000\n",
        "obj.fvalues=500\n",
        "print(obj._value)\n",
        "print(obj.fvalue)\n",
        "obj.show()"
      ],
      "metadata": {
        "colab": {
          "base_uri": "https://localhost:8080/"
        },
        "id": "QvVxBZbUdJ3Q",
        "outputId": "358199c5-7061-496a-f38b-88a8bc5a7776"
      },
      "execution_count": 27,
      "outputs": [
        {
          "output_type": "stream",
          "name": "stdout",
          "text": [
            "500\n",
            "500\n",
            "Value is 500\n"
          ]
        }
      ]
    }
  ]
}