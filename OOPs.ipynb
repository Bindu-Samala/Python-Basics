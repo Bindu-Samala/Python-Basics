{
  "nbformat": 4,
  "nbformat_minor": 0,
  "metadata": {
    "colab": {
      "provenance": [],
      "authorship_tag": "ABX9TyOT0KcsQAydOS5m/pqxItaE",
      "include_colab_link": true
    },
    "kernelspec": {
      "name": "python3",
      "display_name": "Python 3"
    },
    "language_info": {
      "name": "python"
    }
  },
  "cells": [
    {
      "cell_type": "markdown",
      "metadata": {
        "id": "view-in-github",
        "colab_type": "text"
      },
      "source": [
        "<a href=\"https://colab.research.google.com/github/Bindu-Samala/Python-Basics/blob/main/OOPs.ipynb\" target=\"_parent\"><img src=\"https://colab.research.google.com/assets/colab-badge.svg\" alt=\"Open In Colab\"/></a>"
      ]
    },
    {
      "cell_type": "code",
      "execution_count": null,
      "metadata": {
        "id": "wEnsyAvRPmo5"
      },
      "outputs": [],
      "source": []
    },
    {
      "cell_type": "markdown",
      "source": [
        "Creating a class"
      ],
      "metadata": {
        "id": "jsk4FVDMT3VK"
      }
    },
    {
      "cell_type": "code",
      "source": [
        "class Person:\n",
        "  name=\"Bindu\"\n",
        "  occupation=\"SOftware Developer\"\n",
        "  networth=10\n",
        "  def info(self):\n",
        "    print(f\"{self.name} is a {self.occupation}\")\n",
        "a=Person()\n",
        "# a.name=\"Samala\"\n",
        "# a.occupation=\"writer\"\n",
        "print(a.name,a.occupation)\n",
        "a.info()"
      ],
      "metadata": {
        "colab": {
          "base_uri": "https://localhost:8080/"
        },
        "id": "to8wivRCT5K7",
        "outputId": "9d76d734-a3ce-47d3-a44a-bd7dccc706be"
      },
      "execution_count": null,
      "outputs": [
        {
          "output_type": "stream",
          "name": "stdout",
          "text": [
            "Bindu SOftware Developer\n",
            "Bindu is a SOftware Developer\n"
          ]
        }
      ]
    },
    {
      "cell_type": "markdown",
      "source": [
        "The self parameter is reference to the current instance of the class,and is used to access the variables that belongs to the class"
      ],
      "metadata": {
        "id": "abVABEMfU9z-"
      }
    },
    {
      "cell_type": "markdown",
      "source": [
        "Constructor\n",
        "\n",
        "Default constructor:whenthe constructor doesn't accept any arguments from the object and has only one argument,self,in the constructor."
      ],
      "metadata": {
        "id": "PQenmHxFVvs2"
      }
    },
    {
      "cell_type": "code",
      "source": [
        "from os import name\n",
        "class Person:\n",
        "  # def __init__(self):\n",
        "  #   print(\"Default\")\n",
        "  def __init__(self,n,o):\n",
        "    print(\"Hey Hi\")\n",
        "    self.name=n\n",
        "    self.occ=o\n",
        "  def info(self):\n",
        "    print(f\"{self.name} is a {self.occ}\")\n",
        "\n",
        "a=Person(\"Bindu\",\"student\")\n",
        "b=Person(\"Divya\",\"HR\")\n",
        "#c=Person() gives error\n",
        "\n",
        "a.info()\n",
        "b.info()\n"
      ],
      "metadata": {
        "colab": {
          "base_uri": "https://localhost:8080/"
        },
        "id": "nIut_hkOVRhO",
        "outputId": "b1d654ea-7d9c-492f-fe30-710d1547642c"
      },
      "execution_count": null,
      "outputs": [
        {
          "output_type": "stream",
          "name": "stdout",
          "text": [
            "Hey Hi\n",
            "Hey Hi\n",
            "Bindu is a student\n",
            "Divya is a HR\n"
          ]
        }
      ]
    },
    {
      "cell_type": "markdown",
      "source": [
        "Getters\n",
        "\n",
        "used to access the values of an object's properties\n",
        "\n",
        "they are defined using @property decorator"
      ],
      "metadata": {
        "id": "a7HeEttkcwZW"
      }
    },
    {
      "cell_type": "code",
      "source": [
        "class MyClass:\n",
        "  def __init__(self,value):\n",
        "    self._value=value\n",
        "  def show(self):\n",
        "    print(f\"Value is {self._value}\")\n",
        "  @property\n",
        "  def fvalue(self):\n",
        "    return self._value #_value is the property\n",
        "obj=MyClass(10)\n",
        "print(obj._value)\n",
        "print(obj.fvalue)\n",
        "\n",
        "obj.show()"
      ],
      "metadata": {
        "colab": {
          "base_uri": "https://localhost:8080/"
        },
        "id": "rhKOWxYUc5uc",
        "outputId": "e08383b2-bbd5-4223-8151-eb018eb85907"
      },
      "execution_count": null,
      "outputs": [
        {
          "output_type": "stream",
          "name": "stdout",
          "text": [
            "10\n",
            "10\n",
            "Value is 10\n"
          ]
        }
      ]
    },
    {
      "cell_type": "markdown",
      "source": [
        "Setters\n",
        "\n",
        "@property_name.setter decorator is used to set the value\n"
      ],
      "metadata": {
        "id": "gFq9MoRFirbP"
      }
    },
    {
      "cell_type": "code",
      "source": [
        "class MyClass:\n",
        "  def __init__(self,value):\n",
        "    self._value=value\n",
        "  def show(self):\n",
        "    print(f\"Value is {self._value}\")\n",
        "\n",
        "  @property\n",
        "  def fvalue(self):\n",
        "    return self._value #_value is the property\n",
        "\n",
        "  @fvalue.setter\n",
        "  def fvalues(self,newvalue):\n",
        "    self._value=newvalue\n",
        "obj=MyClass(10)\n",
        "# obj._value=1000\n",
        "obj.fvalues=500\n",
        "print(obj._value)\n",
        "print(obj.fvalue)\n",
        "obj.show()"
      ],
      "metadata": {
        "colab": {
          "base_uri": "https://localhost:8080/"
        },
        "id": "QvVxBZbUdJ3Q",
        "outputId": "358199c5-7061-496a-f38b-88a8bc5a7776"
      },
      "execution_count": null,
      "outputs": [
        {
          "output_type": "stream",
          "name": "stdout",
          "text": [
            "500\n",
            "500\n",
            "Value is 500\n"
          ]
        }
      ]
    },
    {
      "cell_type": "markdown",
      "source": [
        "Access Specifier\n",
        "\n",
        "All gthe variables and methods in python are by default public.Any instance variable in a class followed by the self keyword ie. self.var_name are public accessed\n"
      ],
      "metadata": {
        "id": "paUCn5msrwBy"
      }
    },
    {
      "cell_type": "code",
      "source": [
        "class Employee:\n",
        "  def __init__(self):\n",
        "    self.name=\"Bindu\"   #public variable\n",
        "a=Employee()\n",
        "print(a.name)"
      ],
      "metadata": {
        "colab": {
          "base_uri": "https://localhost:8080/"
        },
        "id": "I-szT3Ze1SO8",
        "outputId": "ab02b74c-8b76-4305-fbbe-79baf50c9850"
      },
      "execution_count": 1,
      "outputs": [
        {
          "output_type": "stream",
          "name": "stdout",
          "text": [
            "Bindu\n"
          ]
        }
      ]
    },
    {
      "cell_type": "markdown",
      "source": [
        "Private Access modifier\n",
        "\n",
        "A variable or a method should be considered private by prefixing its name with a double underscore(__).THis is known as a \"week internal use indicator\" and is is a convention only not a strict rule.\n",
        "\n",
        "Name mangling is a technique used to protect class-private and superclass-private attributed from being accidentally overwritten by subclasses\n",
        "\n",
        "\n"
      ],
      "metadata": {
        "id": "SvqsiWYJ2BcD"
      }
    },
    {
      "cell_type": "code",
      "source": [
        "class Employee:\n",
        "  def __init__(self):\n",
        "    self.__name=\"Bindu\"   #private variable\n",
        "a=Employee()\n",
        "# print(a.name) can't be accessed directly\n",
        "print(a._Employee__name) #can be accessed indirectly\n",
        "print(a.__dir__())"
      ],
      "metadata": {
        "colab": {
          "base_uri": "https://localhost:8080/"
        },
        "id": "Mnbxs8Hb2fGa",
        "outputId": "33c0c446-9b9d-4e18-8e2f-d6760e976b0f"
      },
      "execution_count": 9,
      "outputs": [
        {
          "output_type": "stream",
          "name": "stdout",
          "text": [
            "Bindu\n",
            "['_Employee__name', '__module__', '__init__', '__dict__', '__weakref__', '__doc__', '__new__', '__repr__', '__hash__', '__str__', '__getattribute__', '__setattr__', '__delattr__', '__lt__', '__le__', '__eq__', '__ne__', '__gt__', '__ge__', '__reduce_ex__', '__reduce__', '__subclasshook__', '__init_subclass__', '__format__', '__sizeof__', '__dir__', '__class__']\n"
          ]
        }
      ]
    },
    {
      "cell_type": "markdown",
      "source": [
        "Protected Access Modifier\n",
        "\n",
        "\"protected\" is used to describe a memnber(i.e., a method or attribute) of a class that is intended to be accessed only by the class itself and its subclasses.The convention for indicating that a member is protectyed is to prefix its name with a single underscore(_)"
      ],
      "metadata": {
        "id": "XrmR3S-n4ZIZ"
      }
    },
    {
      "cell_type": "code",
      "source": [
        "class Student:\n",
        "  def __init__(self):\n",
        "    self._name=\"Bindu\"\n",
        "  def _funName(self):\n",
        "    return \"Code withBindu\"\n",
        "class Subject(Student):\n",
        "  pass\n",
        "obj=Student()\n",
        "obj1=Subject()\n",
        "\n",
        "print(obj._name)\n",
        "print(obj._funName())\n",
        "print(obj1._name)\n",
        "print(obj1._funName())"
      ],
      "metadata": {
        "colab": {
          "base_uri": "https://localhost:8080/"
        },
        "id": "s_w7new_5V4r",
        "outputId": "d06b02ee-d429-4fbd-9ba7-87c834b93386"
      },
      "execution_count": 14,
      "outputs": [
        {
          "output_type": "stream",
          "name": "stdout",
          "text": [
            "Bindu\n",
            "Code withBindu\n",
            "Bindu\n",
            "Code withBindu\n"
          ]
        }
      ]
    },
    {
      "cell_type": "markdown",
      "source": [
        "Static Methods\n",
        "\n",
        "static methods belong to a class rather than an instance of the class.They are defined using the @staticmethod decorator and do not have access to the instance of the class.They are called on the class itself,not on an instancee of the ca,lss."
      ],
      "metadata": {
        "id": "TfS6fR8X631i"
      }
    },
    {
      "cell_type": "code",
      "source": [
        "class Math:\n",
        "  def __init__(self,num):\n",
        "    self.num=num\n",
        "  def  addtonum(self,n):\n",
        "    self.num=self.num+n\n",
        "  @staticmethod\n",
        "  def add(a,b):\n",
        "    return a+b\n",
        "a=Math(5)\n",
        "print(a.num)\n",
        "a.addtonum(4)\n",
        "print(a.num)\n",
        "print(Math.add(1,1))\n",
        ""
      ],
      "metadata": {
        "colab": {
          "base_uri": "https://localhost:8080/"
        },
        "id": "eYNfcFxv5jCP",
        "outputId": "4627f92c-4823-4630-ea34-d9db6081cd67"
      },
      "execution_count": 22,
      "outputs": [
        {
          "output_type": "stream",
          "name": "stdout",
          "text": [
            "5\n",
            "9\n",
            "2\n",
            "2\n"
          ]
        }
      ]
    },
    {
      "cell_type": "markdown",
      "source": [
        "Class variables and Instance Variables"
      ],
      "metadata": {
        "id": "fTjATvB4_21D"
      }
    },
    {
      "cell_type": "code",
      "source": [
        "class MyClass:\n",
        "  companyName=\"Amazon\" #class variable\n",
        "  count=0   #class variable\n",
        "  def __init__(self,value):\n",
        "    self.value=value #instance variable\n",
        "    MyClass.count+=1\n",
        "  def show(self):\n",
        "    print(f\"Value is {self.value} and coamny is {self.companyName}\")\n",
        "a= MyClass(1)\n",
        "a.companyName=\"FlipKart\"\n",
        "a.show()\n",
        "b=MyClass(2)\n",
        "b.show()"
      ],
      "metadata": {
        "colab": {
          "base_uri": "https://localhost:8080/"
        },
        "id": "LCUcziZz7oYz",
        "outputId": "c37cadba-7367-4126-cd21-d8d71ae88c9f"
      },
      "execution_count": 29,
      "outputs": [
        {
          "output_type": "stream",
          "name": "stdout",
          "text": [
            "Value is 1 and coamny is FlipKart\n",
            "Value is 2 and coamny is Amazon\n"
          ]
        }
      ]
    },
    {
      "cell_type": "code",
      "source": [
        "\n"
      ],
      "metadata": {
        "id": "OSnX40w_7qlc"
      },
      "execution_count": null,
      "outputs": []
    }
  ]
}