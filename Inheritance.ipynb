{
  "nbformat": 4,
  "nbformat_minor": 0,
  "metadata": {
    "colab": {
      "provenance": [],
      "authorship_tag": "ABX9TyMRAzAJs+VGolpY+FgJ9Zpq",
      "include_colab_link": true
    },
    "kernelspec": {
      "name": "python3",
      "display_name": "Python 3"
    },
    "language_info": {
      "name": "python"
    }
  },
  "cells": [
    {
      "cell_type": "markdown",
      "metadata": {
        "id": "view-in-github",
        "colab_type": "text"
      },
      "source": [
        "<a href=\"https://colab.research.google.com/github/Bindu-Samala/Python-Basics/blob/main/Inheritance.ipynb\" target=\"_parent\"><img src=\"https://colab.research.google.com/assets/colab-badge.svg\" alt=\"Open In Colab\"/></a>"
      ]
    },
    {
      "cell_type": "markdown",
      "source": [
        "Python Inheritance Syntax\n",
        "\n",
        "class BaseClass:\n",
        "\n",
        "Body of base class\n",
        "\n",
        "class DerivedClass(BaseClass):\n",
        "\n",
        "Body of derived class"
      ],
      "metadata": {
        "id": "86H7UmH1pRNa"
      }
    },
    {
      "cell_type": "code",
      "execution_count": null,
      "metadata": {
        "colab": {
          "base_uri": "https://localhost:8080/"
        },
        "id": "JnravTWTnoI3",
        "outputId": "c8a86e8a-872e-4612-925b-79460abdfa48"
      },
      "outputs": [
        {
          "output_type": "stream",
          "name": "stdout",
          "text": [
            "The name of Employee:500 is Bindu Samala\n",
            "The name of Employee:343 is Navya\n",
            "The default language is Python\n"
          ]
        }
      ],
      "source": [
        "class Employee:\n",
        "  def __init__(self,name,id):\n",
        "    self.name=name\n",
        "    self.id=id\n",
        "  def showDetails(self):\n",
        "    print(f\"The name of Employee:{self.id} is {self.name}\")\n",
        "class Programmer(Employee):\n",
        "  def showLanguage(self):\n",
        "    print(\"The default language is Python\")\n",
        "\n",
        "e1=Employee(\"Bindu Samala\",500)\n",
        "e1.showDetails()\n",
        "e2=Programmer(\"Navya\",343)\n",
        "e2.showDetails()\n",
        "e2.showLanguage()"
      ]
    },
    {
      "cell_type": "markdown",
      "source": [
        "Types of Inheritance\n",
        "\n",
        "1.Single Inheritance  \n",
        "\n",
        "2.Multiple Inheritance\n",
        "\n",
        "3.Multi level inheritance\n",
        "\n",
        "4.Hybrid Inheritance\n",
        "\n",
        "5.Hierarical Inheritance\n"
      ],
      "metadata": {
        "id": "zLFvdYLmrcph"
      }
    },
    {
      "cell_type": "code",
      "source": [
        "#python supports multiple inheritance.whichever class is inherited first,that class method will be executed if that method is called from by cild class object\n",
        "class Employee:\n",
        "  def __init__(self,name):\n",
        "    self.name=name\n",
        "  def show(self):\n",
        "    print(\"This is from employee class\")\n",
        "\n",
        "class Dancer:\n",
        "  def __init__(self,dance):\n",
        "    self.dance=dance\n",
        "  def show(self):\n",
        "    print(\"This is from Dancer class\")\n",
        "class DancerEmployee(Dancer,Employee):\n",
        "  def __init__(self,dance,name):\n",
        "    self.dance=dance\n",
        "    self.name=name\n",
        "\n",
        "a=DancerEmployee(\"Kathak\",\"Bindu\")\n",
        "a.show()"
      ],
      "metadata": {
        "id": "EBCfnCqAp1si",
        "colab": {
          "base_uri": "https://localhost:8080/"
        },
        "outputId": "de087646-b79b-4b33-abb0-e6c343f3d7da"
      },
      "execution_count": 9,
      "outputs": [
        {
          "output_type": "stream",
          "name": "stdout",
          "text": [
            "This is from Dancer class\n"
          ]
        }
      ]
    },
    {
      "cell_type": "code",
      "source": [
        "#multi level inheritance\n",
        "class Employee:\n",
        "  def __init__(self,name):\n",
        "    self.name=name\n",
        "  def show(self):\n",
        "    print(\"This is from employee class\")\n",
        "\n",
        "class Dancer(Employee):\n",
        "  def __init__(self,dance):\n",
        "    self.dance=dance\n",
        "  def show(self):\n",
        "    print(\"This is from Dancer class\")\n",
        "class DancerEmployee(Dancer):\n",
        "  def __init__(self,dance,name):\n",
        "    self.dance=dance\n",
        "    self.name=name\n",
        "  def show(self):\n",
        "    print(\"This is from DancerEmployee class\")\n",
        "\n",
        "a=DancerEmployee(\"Kathak\",\"Bindu\")\n",
        "a.show()\n"
      ],
      "metadata": {
        "colab": {
          "base_uri": "https://localhost:8080/"
        },
        "id": "BTqbDnshjL8O",
        "outputId": "f2f13db4-ff77-4767-ca0a-469f93449977"
      },
      "execution_count": 11,
      "outputs": [
        {
          "output_type": "stream",
          "name": "stdout",
          "text": [
            "This is from DancerEmployee class\n"
          ]
        }
      ]
    },
    {
      "cell_type": "code",
      "source": [
        "#hybrid inheritance is a combination of multiple and single inheritance\n",
        "class BaseClass:\n",
        "  pass\n",
        "class Derived1(BaseClass):\n",
        "  pass\n",
        "class Derived2(BaseClass):\n",
        "  pass\n",
        "class Derived3(Derived1,Derived2):\n",
        "  pass"
      ],
      "metadata": {
        "id": "e79K0i_ak7N_"
      },
      "execution_count": 12,
      "outputs": []
    },
    {
      "cell_type": "code",
      "source": [
        "#Hierarchical Inheritance means multiple subclasses inherit from a single base class\n",
        "class BaseClass:\n",
        "  pass\n",
        "class Derived1(BaseClass):\n",
        "  pass\n",
        "class Derived2(BaseClass):\n",
        "  pass\n",
        "class Derived3(BaseClass):\n",
        "  pass\n",
        "class Derived4(Derived3):\n",
        "  pass"
      ],
      "metadata": {
        "id": "ZNCKZ0WXlmBJ"
      },
      "execution_count": 14,
      "outputs": []
    },
    {
      "cell_type": "markdown",
      "source": [
        "Method Overriding"
      ],
      "metadata": {
        "id": "LF2FhqoFYx39"
      }
    },
    {
      "cell_type": "code",
      "source": [
        "class Shape:\n",
        "  def area(self):\n",
        "    pass\n",
        "class Circle(Shape):\n",
        "  def __init__(self,radius):\n",
        "        self.radius=radius\n",
        "  def area(self):\n",
        "    return 3.14*self.radius*self.radius\n",
        "a=Circle(4)\n",
        "print(a.area())\n"
      ],
      "metadata": {
        "colab": {
          "base_uri": "https://localhost:8080/"
        },
        "id": "oLgJBcaCY0SN",
        "outputId": "6383d311-55b5-4221-d6bb-5d0aa7269634"
      },
      "execution_count": 2,
      "outputs": [
        {
          "output_type": "stream",
          "name": "stdout",
          "text": [
            "50.24\n"
          ]
        }
      ]
    },
    {
      "cell_type": "markdown",
      "source": [
        "Operator Overloading"
      ],
      "metadata": {
        "id": "OXp1_TKVaUX4"
      }
    },
    {
      "cell_type": "code",
      "source": [
        "class Vector:\n",
        "  def __init__(self,i,j,k):\n",
        "    self.i=i\n",
        "    self.j=j\n",
        "    self.k=k\n",
        "  def __str__(self):\n",
        "    return f\"{self.i}i + {self.j}j +{self.k}k\"\n",
        "  def __add__(self,x):\n",
        "    return   Vector(self.i + x.i, self.j + x.j ,self.k+x.k)\n",
        "\n",
        "v1=Vector(3,5,6)\n",
        "print(v1)\n",
        "v2=Vector(1,2,9)\n",
        "print(v2)\n",
        "print(v1+v2)\n",
        "print(type(v1+v2))\n"
      ],
      "metadata": {
        "colab": {
          "base_uri": "https://localhost:8080/"
        },
        "id": "ukt_dpsyY2FT",
        "outputId": "cd612db7-2e5d-4794-a815-e9b722b248ad"
      },
      "execution_count": 7,
      "outputs": [
        {
          "output_type": "stream",
          "name": "stdout",
          "text": [
            "3i + 5j +6k\n",
            "1i + 2j +9k\n",
            "4i + 7j +15k\n",
            "<class '__main__.Vector'>\n"
          ]
        }
      ]
    },
    {
      "cell_type": "code",
      "source": [],
      "metadata": {
        "id": "f6CN0t2RcEwl"
      },
      "execution_count": null,
      "outputs": []
    }
  ]
}