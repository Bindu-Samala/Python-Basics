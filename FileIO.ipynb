{
  "nbformat": 4,
  "nbformat_minor": 0,
  "metadata": {
    "colab": {
      "provenance": [],
      "authorship_tag": "ABX9TyNI2HnhcSogHrdTh9VJ4zaL",
      "include_colab_link": true
    },
    "kernelspec": {
      "name": "python3",
      "display_name": "Python 3"
    },
    "language_info": {
      "name": "python"
    }
  },
  "cells": [
    {
      "cell_type": "markdown",
      "metadata": {
        "id": "view-in-github",
        "colab_type": "text"
      },
      "source": [
        "<a href=\"https://colab.research.google.com/github/Bindu-Samala/Python-Basics/blob/main/FileIO.ipynb\" target=\"_parent\"><img src=\"https://colab.research.google.com/assets/colab-badge.svg\" alt=\"Open In Colab\"/></a>"
      ]
    },
    {
      "cell_type": "markdown",
      "source": [],
      "metadata": {
        "id": "p4X1mfPUttLb"
      }
    },
    {
      "cell_type": "markdown",
      "source": [
        "**File IO**\n"
      ],
      "metadata": {
        "id": "Lz4xiK3_mgrO"
      }
    },
    {
      "cell_type": "code",
      "source": [
        "#opening a file in read mode\n",
        "f=open('myfile.txt','r')\n",
        "#reading the content of file\n",
        "text=f.read()\n",
        "print(text)\n",
        "#closing the file\n",
        "f.close()"
      ],
      "metadata": {
        "id": "U6qvu52Cmpdm",
        "colab": {
          "base_uri": "https://localhost:8080/"
        },
        "outputId": "fe93bdbc-a8b2-4493-8174-dd1470d0c852"
      },
      "execution_count": 7,
      "outputs": [
        {
          "output_type": "stream",
          "name": "stdout",
          "text": [
            "Hello WorldHello World2\n"
          ]
        }
      ]
    },
    {
      "cell_type": "markdown",
      "source": [
        "**Modes**\n",
        "\n",
        "read(r) (default)\n",
        "\n",
        "write(w):This mode opens the file for writing only and creates new file if does not exist\n",
        "\n",
        "append(a):This mode opens the file for appending only and creates the new fiel if the file does not exist\n",
        "\n",
        "t:text mode\n",
        "\n",
        "binary(b):used to handle binary files"
      ],
      "metadata": {
        "id": "nd_08rlxmzps"
      }
    },
    {
      "cell_type": "code",
      "source": [
        "#opening a file in write mode\n",
        "f=open('myfile.txt','w')\n",
        "#writing to the file\n",
        "f.write(\"Hello World\")\n",
        "#closing the file\n",
        "f.close()"
      ],
      "metadata": {
        "id": "Q1VaReZYn4a-"
      },
      "execution_count": 5,
      "outputs": []
    },
    {
      "cell_type": "code",
      "source": [
        "#opening a file in append mode\n",
        "f=open('myfile.txt','a')\n",
        "#appending to the file\n",
        "f.write(\"Hello World2\")\n",
        "#closing the file\n",
        "f.close()"
      ],
      "metadata": {
        "id": "IuNjYGG2pTNm"
      },
      "execution_count": 6,
      "outputs": []
    },
    {
      "cell_type": "markdown",
      "source": [
        "The \"with\" statement"
      ],
      "metadata": {
        "id": "0Kj7c2tap9KX"
      }
    },
    {
      "cell_type": "code",
      "source": [
        "with open('myfile.txt','a') as f:\n",
        "  f.write(\"Hey I am inside with\")"
      ],
      "metadata": {
        "id": "b6Stw5u1qAPB"
      },
      "execution_count": 8,
      "outputs": []
    },
    {
      "cell_type": "code",
      "source": [
        "#readlines() reads a single line from the file.If we want to read multiple lines,we can use a loop\n",
        "f=open(\"myfile.txt\",'r')\n",
        "while True:\n",
        "  line=f.readline()\n",
        "  if not line:\n",
        "    break\n",
        "  print(line)"
      ],
      "metadata": {
        "colab": {
          "base_uri": "https://localhost:8080/"
        },
        "id": "vijruQLBuc9d",
        "outputId": "7347ff40-4061-479f-c235-7f82e65278c5"
      },
      "execution_count": 10,
      "outputs": [
        {
          "output_type": "stream",
          "name": "stdout",
          "text": [
            "Hello WorldHello World2Hey I am inside with\n",
            "\n",
            "This is the second line\n",
            "\n",
            "This is the third line\n"
          ]
        }
      ]
    },
    {
      "cell_type": "code",
      "source": [
        "#writelines() method in python writes a sequence of strings to a file.The sequence can be any iterable object,such as a listv or a tuple\n",
        "f=open(\"myfile.txt\",'a')\n",
        "lines=['line 1\\n','line 2\\n','line 3\\n']\n",
        "f.writelines(lines)\n",
        "f.close()\n"
      ],
      "metadata": {
        "id": "XqaQPgjwuvpT"
      },
      "execution_count": 15,
      "outputs": []
    },
    {
      "cell_type": "markdown",
      "source": [
        "seek() function allows you to move the current position within a file to a specific point.The positon is specified in bytes,and you can move either forward or backward\n"
      ],
      "metadata": {
        "id": "LLzjX1AayVBL"
      }
    },
    {
      "cell_type": "code",
      "source": [
        "with open('myfile.txt','r') as f:\n",
        "  #move to the 10th byte in the file\n",
        "  f.seek(10)\n",
        "  #read the next 5 bytes\n",
        "\n",
        "  data=f.read(5)\n",
        "  print(data)"
      ],
      "metadata": {
        "colab": {
          "base_uri": "https://localhost:8080/"
        },
        "id": "TocIQUgzyUor",
        "outputId": "174838a5-b780-41ab-d73b-232eeb8c8f15"
      },
      "execution_count": 17,
      "outputs": [
        {
          "output_type": "stream",
          "name": "stdout",
          "text": [
            "dHell\n"
          ]
        }
      ]
    },
    {
      "cell_type": "markdown",
      "source": [
        "tell() function returns the current position with in the file,in bytes."
      ],
      "metadata": {
        "id": "hKoHHvrRzECE"
      }
    },
    {
      "cell_type": "code",
      "source": [
        "with open('myfile.txt','r') as f:\n",
        "  #move to the 10th byte in the file\n",
        "  f.seek(10)\n",
        "  #read the next 5 bytes\n",
        "\n",
        "  print(f.tell())\n",
        "  data=f.read(5)\n",
        "  print(f.tell())\n",
        "  print(data)"
      ],
      "metadata": {
        "colab": {
          "base_uri": "https://localhost:8080/"
        },
        "id": "x6wdmD9LzQUU",
        "outputId": "da639fb1-7da0-48ad-d70b-a40a37d6a3e4"
      },
      "execution_count": 21,
      "outputs": [
        {
          "output_type": "stream",
          "name": "stdout",
          "text": [
            "10\n",
            "15\n",
            "dHell\n"
          ]
        }
      ]
    },
    {
      "cell_type": "markdown",
      "source": [
        "truncate()"
      ],
      "metadata": {
        "id": "K19Odzs50LbX"
      }
    },
    {
      "cell_type": "code",
      "source": [
        "with open('myfile.txt','w') as f:\n",
        "  f.write(\"Hello world\")\n",
        "  f.truncate(5)\n",
        "with open('myfile.txt','r') as f:\n",
        " print(f.read())"
      ],
      "metadata": {
        "colab": {
          "base_uri": "https://localhost:8080/"
        },
        "id": "ATR62LBz0SBk",
        "outputId": "6c26676d-1243-4574-cd4f-828dcef54405"
      },
      "execution_count": 25,
      "outputs": [
        {
          "output_type": "stream",
          "name": "stdout",
          "text": [
            "Hello\n"
          ]
        }
      ]
    }
  ]
}