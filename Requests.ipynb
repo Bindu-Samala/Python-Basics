{
  "nbformat": 4,
  "nbformat_minor": 0,
  "metadata": {
    "colab": {
      "provenance": [],
      "authorship_tag": "ABX9TyOrnY8hPi7v5tsGWb2h2HoA",
      "include_colab_link": true
    },
    "kernelspec": {
      "name": "python3",
      "display_name": "Python 3"
    },
    "language_info": {
      "name": "python"
    }
  },
  "cells": [
    {
      "cell_type": "markdown",
      "metadata": {
        "id": "view-in-github",
        "colab_type": "text"
      },
      "source": [
        "<a href=\"https://colab.research.google.com/github/Bindu-Samala/Python-Basics/blob/main/Requests.ipynb\" target=\"_parent\"><img src=\"https://colab.research.google.com/assets/colab-badge.svg\" alt=\"Open In Colab\"/></a>"
      ]
    },
    {
      "cell_type": "markdown",
      "source": [
        "Time Module"
      ],
      "metadata": {
        "id": "VVbyoQKxgC1x"
      }
    },
    {
      "cell_type": "markdown",
      "source": [
        "time.time() function returns the current time as floating-point number,representing the no of seconds since the epoch."
      ],
      "metadata": {
        "id": "eZJqkxc_jocu"
      }
    },
    {
      "cell_type": "code",
      "execution_count": 6,
      "metadata": {
        "id": "s3g4pXhEden4",
        "colab": {
          "base_uri": "https://localhost:8080/"
        },
        "outputId": "87ce7fab-7a67-4916-fe35-5c8ac53622ca"
      },
      "outputs": [
        {
          "output_type": "stream",
          "name": "stdout",
          "text": [
            "0.000339508056640625\n",
            "0.002145051956176758\n"
          ]
        }
      ],
      "source": [
        "import time\n",
        "\n",
        "def usingWhile():\n",
        "  i=0\n",
        "  while i<5000:\n",
        "    i=i+1\n",
        "    # print(i)\n",
        "\n",
        "def usingFor():\n",
        "  for i in range(5000):\n",
        "    # print(i)\n",
        "    pass\n",
        "init=time.time()\n",
        "usingFor()\n",
        "print(time.time()-init)\n",
        "start=time.time()\n",
        "usingWhile()\n",
        "print(time.time()-start)\n"
      ]
    },
    {
      "cell_type": "markdown",
      "source": [
        "time.sleep() function suspends the execution of the current thread for a specified number of seconds"
      ],
      "metadata": {
        "id": "sT6abbJdkb20"
      }
    },
    {
      "cell_type": "code",
      "source": [
        "import time\n",
        "print(\"STart:\",time.time())\n",
        "time.sleep(2)\n",
        "print(\"End:\",time.time())"
      ],
      "metadata": {
        "colab": {
          "base_uri": "https://localhost:8080/"
        },
        "id": "IgO9JPOMii98",
        "outputId": "389bfef3-1245-4faf-ca2b-1ec153794721"
      },
      "execution_count": 7,
      "outputs": [
        {
          "output_type": "stream",
          "name": "stdout",
          "text": [
            "STart: 1714372739.7049272\n",
            "End: 1714372741.707474\n"
          ]
        }
      ]
    },
    {
      "cell_type": "markdown",
      "source": [
        "time.strftime() function formats a time value as astring,based on a specified format.(in human readable format)"
      ],
      "metadata": {
        "id": "TS_bGYUVllzb"
      }
    },
    {
      "cell_type": "code",
      "source": [
        "import time\n",
        "t=time.localtime()\n",
        "formatted_time=time.strftime(\"%Y-%m-%d %H:%M:%S\",t)\n",
        "print(formatted_time)\n"
      ],
      "metadata": {
        "colab": {
          "base_uri": "https://localhost:8080/"
        },
        "id": "eXLyBYoBl1f9",
        "outputId": "0d9c1b83-9ec7-4248-e436-b726a3af7002"
      },
      "execution_count": 8,
      "outputs": [
        {
          "output_type": "stream",
          "name": "stdout",
          "text": [
            "2024-04-29 06:44:10\n"
          ]
        }
      ]
    },
    {
      "cell_type": "markdown",
      "source": [
        "Regular Expressions\n",
        "\n",
        "They allow you to match and manipulate strings based on patterns,making it t easy to perform complex string operations.\n",
        "\n",
        "Metacharacters\n",
        "\n",
        "[ ] represents character class\n",
        "\n",
        "^ Matches the beginning\n",
        "\n",
        "$ Matches the end\n",
        "\n",
        ". Matches any character except newline\n",
        "\n",
        "? Matches zero or one occurrence\n",
        "\n",
        "| Means OR(matches with any of the characters separated by it)\n",
        "\n",
        " .*   Any number of occurrences\n",
        "\n",
        ".+    one or more occurrences\n",
        "\n",
        "() Enclose a group of REs"
      ],
      "metadata": {
        "id": "9hkpzzc8mwKg"
      }
    },
    {
      "cell_type": "code",
      "source": [
        "import re\n",
        "# pattern=\"to\"\n",
        "pattern=r\"[a-z]+ed\"\n",
        "text='''The Battle of Grand Gulf was fought\n",
        " on April 29, 1863, during the American Civil War.\n",
        "  Union Army forces commanded by Ulysses S. Grant\n",
        "  had failed several times to bypass or capture\n",
        "  the Confederate-held city of Vicksburg,\n",
        "  Mississippi. Grant decided to move his army\n",
        "  south of Vicksburg, cross the Mississippi River,\n",
        "  and then advance on the city.'''\n",
        "# match=re.search(pattern,text)\n",
        "matches = re.finditer(pattern,text)\n",
        "for match in matches:\n",
        " print(match)\n",
        " print(match.span())\n",
        "#  print(match.span())\n"
      ],
      "metadata": {
        "colab": {
          "base_uri": "https://localhost:8080/"
        },
        "id": "dUcNwyTnr7kJ",
        "outputId": "b7b78aee-f10b-4630-92e0-53ef9d5ede32"
      },
      "execution_count": 18,
      "outputs": [
        {
          "output_type": "stream",
          "name": "stdout",
          "text": [
            "<re.Match object; span=(107, 116), match='commanded'>\n",
            "(107, 116)\n",
            "<re.Match object; span=(144, 150), match='failed'>\n",
            "(144, 150)\n",
            "<re.Match object; span=(194, 199), match='onfed'>\n",
            "(194, 199)\n",
            "<re.Match object; span=(251, 258), match='decided'>\n",
            "(251, 258)\n"
          ]
        }
      ]
    },
    {
      "cell_type": "markdown",
      "source": [
        "The Walrus Operator\n",
        "\n",
        "It allows yoy to assign a value to a variable with in an expression.This cane be useful when yoiu nedd to use a value multiple times in aloop,but don't want to repeat the calculation.\n",
        "\n",
        "it is represented by the := syntax and can be used in while loops and if statements"
      ],
      "metadata": {
        "id": "T7Avp_iFwyWz"
      }
    },
    {
      "cell_type": "code",
      "source": [
        "numbers=[1,2,3,4,5]\n",
        "while(n:=len(numbers)) > 0:\n",
        "  print(numbers.pop())"
      ],
      "metadata": {
        "colab": {
          "base_uri": "https://localhost:8080/"
        },
        "id": "HuCL7IQHxHIO",
        "outputId": "b6722d12-78a5-4d7b-d492-699794871e46"
      },
      "execution_count": 19,
      "outputs": [
        {
          "output_type": "stream",
          "name": "stdout",
          "text": [
            "5\n",
            "4\n",
            "3\n",
            "2\n",
            "1\n"
          ]
        }
      ]
    },
    {
      "cell_type": "code",
      "source": [
        "aww=True\n",
        "print(aww:=False)"
      ],
      "metadata": {
        "colab": {
          "base_uri": "https://localhost:8080/"
        },
        "id": "H_tbilWly0iC",
        "outputId": "9a991c57-ee4e-4bfd-8b2f-0849ce9a3d18"
      },
      "execution_count": 20,
      "outputs": [
        {
          "output_type": "stream",
          "name": "stdout",
          "text": [
            "False\n"
          ]
        }
      ]
    },
    {
      "cell_type": "code",
      "source": [
        "# foods=list()\n",
        "# while True:\n",
        "#   food=input(\"What food do you like?:\")\n",
        "#   if food==\"quit\":\n",
        "#     break\n",
        "#   foods.append(food)\n",
        "\n",
        "foods=list()\n",
        "while(food:=input(\"What food do you like?:\"))!=\"quit\":\n",
        "  foods.append(food)"
      ],
      "metadata": {
        "colab": {
          "base_uri": "https://localhost:8080/"
        },
        "id": "b-sRfZD1zA01",
        "outputId": "13414af7-9056-44dc-af9e-af5d1ec4a1b8"
      },
      "execution_count": 25,
      "outputs": [
        {
          "name": "stdout",
          "output_type": "stream",
          "text": [
            "What food do you like?:bndfu\n",
            "What food do you like?:quit\n"
          ]
        }
      ]
    },
    {
      "cell_type": "markdown",
      "source": [
        "Request Module\n",
        "\n",
        "It is an HTTP library that enables developers to send HTTP requests in python and makes it possible to interact with APIs and web services\n",
        "\n",
        "Installation\n",
        "\n",
        "pip install requests\n"
      ],
      "metadata": {
        "id": "kpFcK3go98oK"
      }
    },
    {
      "cell_type": "code",
      "source": [
        "pip install requests\n"
      ],
      "metadata": {
        "colab": {
          "base_uri": "https://localhost:8080/"
        },
        "id": "a1CRRWCg-gi2",
        "outputId": "7f9fbe39-894c-4bfc-cd5c-5fa275553212"
      },
      "execution_count": 35,
      "outputs": [
        {
          "output_type": "stream",
          "name": "stdout",
          "text": [
            "Requirement already satisfied: requests in /usr/local/lib/python3.10/dist-packages (2.31.0)\n",
            "Requirement already satisfied: charset-normalizer<4,>=2 in /usr/local/lib/python3.10/dist-packages (from requests) (3.3.2)\n",
            "Requirement already satisfied: idna<4,>=2.5 in /usr/local/lib/python3.10/dist-packages (from requests) (3.7)\n",
            "Requirement already satisfied: urllib3<3,>=1.21.1 in /usr/local/lib/python3.10/dist-packages (from requests) (2.0.7)\n",
            "Requirement already satisfied: certifi>=2017.4.17 in /usr/local/lib/python3.10/dist-packages (from requests) (2024.2.2)\n"
          ]
        }
      ]
    },
    {
      "cell_type": "code",
      "source": [
        "import requests\n",
        "from bs4 import BeautifulSoup\n",
        "#Get Request\n",
        "response=requests.get(\"https://www.google.com\")\n",
        "# print(response.text)\n",
        "soup=BeautifulSoup(response.text,'html.parser')\n",
        "# print(soup.prettify())\n",
        "\n",
        "for heading in soup.find_all(\"h5\"):\n",
        "  print(heading.text)\n",
        "\n",
        "#post request\n",
        "\n",
        "url=\"https://jsonplaceholder.typicode.com/posts\"\n",
        "data={\n",
        "    \"userId\": 1,\n",
        "    \"id\": 5,\n",
        "    \"title\": \"Bindu\",\n",
        "    \"body\": \"repudiandae veniam quaerat sunt sed\\nalias aut fugiat sit autem sed est\\nvoluptatem omnis possimus esse voluptatibus quis\\nest aut tenetur dolor neque\"\n",
        "  }\n",
        "headers={\n",
        "    'Content-type': 'application/json; charset=UTF-8',\n",
        "  }\n",
        "response=requests.post(url,headers=headers,json=data)\n",
        "print(response.text)"
      ],
      "metadata": {
        "colab": {
          "base_uri": "https://localhost:8080/"
        },
        "id": "kt8kGIQH-mCl",
        "outputId": "ba768388-2da7-42d6-b43d-e82540036b5a"
      },
      "execution_count": 46,
      "outputs": [
        {
          "output_type": "stream",
          "name": "stdout",
          "text": [
            "{\n",
            "  \"userId\": 1,\n",
            "  \"id\": 101,\n",
            "  \"title\": \"Bindu\",\n",
            "  \"body\": \"repudiandae veniam quaerat sunt sed\\nalias aut fugiat sit autem sed est\\nvoluptatem omnis possimus esse voluptatibus quis\\nest aut tenetur dolor neque\"\n",
            "}\n"
          ]
        }
      ]
    },
    {
      "cell_type": "code",
      "source": [],
      "metadata": {
        "id": "dBrnfftTBHmi"
      },
      "execution_count": null,
      "outputs": []
    },
    {
      "cell_type": "markdown",
      "source": [
        "Multithreading\n",
        "\n",
        "allows multiple theads of execution to run concurrently with in a single process"
      ],
      "metadata": {
        "id": "ZD3UUCNF3AwK"
      }
    },
    {
      "cell_type": "code",
      "source": [
        "from os import confstr\n",
        "import threading\n",
        "import time\n",
        "\n",
        "def func(seconds):\n",
        "  print(f\"Sleeping for {seconds} seconds\")\n",
        "  time.sleep(seconds)\n",
        "time1=time.perf_counter()\n",
        "# normal code\n",
        "func(4)\n",
        "func(2)\n",
        "func(1)\n",
        "time2=time.perf_counter()\n",
        "print(time2-time1)\n",
        "\n",
        "#same code using thraeds\n",
        "t=time.perf_counter()\n",
        "t1=threading.Thread(target=func,args=[4])\n",
        "t2=threading.Thread(target=func,args=[3])\n",
        "t3=threading.Thread(target=func,args=[2])\n",
        "\n",
        "\n",
        "t1.start()\n",
        "t2.start()\n",
        "t3.start()\n",
        "t2=time.perf_counter()\n",
        "print(t2-t)"
      ],
      "metadata": {
        "colab": {
          "base_uri": "https://localhost:8080/"
        },
        "id": "Kj836LoKzHac",
        "outputId": "9c9adb0b-2b51-4c07-ff5b-3f509557a687"
      },
      "execution_count": 32,
      "outputs": [
        {
          "output_type": "stream",
          "name": "stdout",
          "text": [
            "Sleeping for 4 seconds\n",
            "Sleeping for 2 seconds\n",
            "Sleeping for 1 seconds\n",
            "7.009796516000279\n",
            "Sleeping for 4 seconds\n",
            "Sleeping for 3 seconds\n",
            "Sleeping for 2 seconds\n",
            "0.004923645000417309\n"
          ]
        }
      ]
    },
    {
      "cell_type": "code",
      "source": [
        "from concurrent.futures import ThreadPoolExecutor\n",
        "\n",
        "def poolingDemo():\n",
        "  with ThreadPoolExecutor() as executor:\n",
        "    future=executor.submit(func,3)\n",
        "    print(future.result())\n",
        "    future=executor.submit(func,3)\n",
        "    print(future.result())\n",
        "    future=executor.submit(func,3)\n",
        "    print(future.result())\n",
        "poolingDemo()"
      ],
      "metadata": {
        "colab": {
          "base_uri": "https://localhost:8080/"
        },
        "id": "WX8kVQUN3fUp",
        "outputId": "0b15411d-b1d2-4233-9d5f-5dfc5f6f3cf2"
      },
      "execution_count": 34,
      "outputs": [
        {
          "output_type": "stream",
          "name": "stdout",
          "text": [
            "Sleeping for 3 seconds\n",
            "None\n",
            "Sleeping for 3 seconds\n",
            "None\n",
            "Sleeping for 3 seconds\n",
            "None\n"
          ]
        }
      ]
    },
    {
      "cell_type": "markdown",
      "source": [
        "Multiprocessing"
      ],
      "metadata": {
        "id": "VOetTlnn8NZk"
      }
    },
    {
      "cell_type": "code",
      "source": [],
      "metadata": {
        "id": "-0kjfEnu6sdW"
      },
      "execution_count": null,
      "outputs": []
    },
    {
      "cell_type": "markdown",
      "source": [
        "Generators in python ara a special type of functions that allow you to create an iterable seque3nce of values. A generator function returns a generator object,which can be used to generate the value one-by-one as you iteratwe over it.they allow you to generate the values on the fly  rather than having to create and store the entire sequence in memory"
      ],
      "metadata": {
        "id": "0JYA2FKyDEpW"
      }
    },
    {
      "cell_type": "markdown",
      "source": [
        "generator can be create dusing the yiels statement in a function.The yield statement returns a value from the generaor and suspends the exceuton of the function until next value is requested"
      ],
      "metadata": {
        "id": "BMVj0JcPEDvF"
      }
    },
    {
      "cell_type": "code",
      "source": [
        "def my_generator():\n",
        "  for i in range(10):\n",
        "    yield i\n",
        "\n",
        "gen=my_generator()\n",
        "print(next(gen))\n",
        "print(next(gen))\n",
        "\n",
        "for j in gen:\n",
        "  print(j)"
      ],
      "metadata": {
        "colab": {
          "base_uri": "https://localhost:8080/"
        },
        "id": "vuf4nKnODsp0",
        "outputId": "967825d5-56ca-4755-b408-52ec0245a201"
      },
      "execution_count": 53,
      "outputs": [
        {
          "output_type": "stream",
          "name": "stdout",
          "text": [
            "0\n",
            "1\n",
            "2\n",
            "3\n",
            "4\n",
            "5\n",
            "6\n",
            "7\n",
            "8\n",
            "9\n"
          ]
        }
      ]
    },
    {
      "cell_type": "code",
      "source": [],
      "metadata": {
        "id": "wTo69mCbD7v0"
      },
      "execution_count": null,
      "outputs": []
    }
  ]
}