{
  "nbformat": 4,
  "nbformat_minor": 0,
  "metadata": {
    "colab": {
      "provenance": [],
      "authorship_tag": "ABX9TyNJCJ+URpWnh6oNQi8gn+JC",
      "include_colab_link": true
    },
    "kernelspec": {
      "name": "python3",
      "display_name": "Python 3"
    },
    "language_info": {
      "name": "python"
    }
  },
  "cells": [
    {
      "cell_type": "markdown",
      "metadata": {
        "id": "view-in-github",
        "colab_type": "text"
      },
      "source": [
        "<a href=\"https://colab.research.google.com/github/Bindu-Samala/Python-Basics/blob/main/fStringdocString.ipynb\" target=\"_parent\"><img src=\"https://colab.research.google.com/assets/colab-badge.svg\" alt=\"Open In Colab\"/></a>"
      ]
    },
    {
      "cell_type": "markdown",
      "source": [
        "String Formatting"
      ],
      "metadata": {
        "id": "Erd0hA9wjxEe"
      }
    },
    {
      "cell_type": "code",
      "execution_count": 1,
      "metadata": {
        "colab": {
          "base_uri": "https://localhost:8080/"
        },
        "id": "iltwXggpiCyJ",
        "outputId": "93790a93-baf7-4653-803a-61bb7c9946f5"
      },
      "outputs": [
        {
          "output_type": "stream",
          "name": "stdout",
          "text": [
            "For only 49.00 dollars!\n"
          ]
        }
      ],
      "source": [
        "txt=\"For only {price:.2f} dollars!\"\n",
        "print(txt.format(price=49))"
      ]
    },
    {
      "cell_type": "markdown",
      "source": [
        "F-String(Literal String Interpolation)"
      ],
      "metadata": {
        "id": "09LBA7o2kMwK"
      }
    },
    {
      "cell_type": "code",
      "source": [
        "country=\"Russia\"\n",
        "name=\"Bindu\"\n",
        "print(f\"Hey my name is {name} and I am from {country}\")\n",
        "print(f\"{2*30}\")"
      ],
      "metadata": {
        "colab": {
          "base_uri": "https://localhost:8080/"
        },
        "id": "H2NKRrEAkRzc",
        "outputId": "7e245420-0d91-4fd9-dd55-dac42960284d"
      },
      "execution_count": 3,
      "outputs": [
        {
          "output_type": "stream",
          "name": "stdout",
          "text": [
            "Hey my name is Bindu and I am from Russia\n",
            "60\n"
          ]
        }
      ]
    },
    {
      "cell_type": "markdown",
      "source": [
        "Docstrings:they are the string literals that appear right after the definition of a function,method,class or module\n"
      ],
      "metadata": {
        "id": "7TnxMz0ilmv3"
      }
    },
    {
      "cell_type": "code",
      "source": [
        "#Unlike comments,docstrings are not ignored by interpreter and they cane be accessed\n",
        "def square(n):\n",
        "  '''Takes in a number n, returns the square of n'''\n",
        "  print(n**2)\n",
        "square(3)\n",
        "print(square.__doc__)\n"
      ],
      "metadata": {
        "colab": {
          "base_uri": "https://localhost:8080/"
        },
        "id": "KSeDUNgRlxq2",
        "outputId": "7a7c0399-81cf-472e-d49f-65b1208d8469"
      },
      "execution_count": 5,
      "outputs": [
        {
          "output_type": "stream",
          "name": "stdout",
          "text": [
            "9\n",
            "Takes in a number n, returns the square of n\n"
          ]
        }
      ]
    },
    {
      "cell_type": "markdown",
      "source": [
        "PEP(Python enhancement program) is a document that provides guidelines and best practices on how bto write python code"
      ],
      "metadata": {
        "id": "rGiKzXTQmrR9"
      }
    }
  ]
}