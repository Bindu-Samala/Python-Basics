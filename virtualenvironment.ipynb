{
  "nbformat": 4,
  "nbformat_minor": 0,
  "metadata": {
    "colab": {
      "provenance": [],
      "authorship_tag": "ABX9TyPllkwrFy9oZZcIY6Xh+67I",
      "include_colab_link": true
    },
    "kernelspec": {
      "name": "python3",
      "display_name": "Python 3"
    },
    "language_info": {
      "name": "python"
    }
  },
  "cells": [
    {
      "cell_type": "markdown",
      "metadata": {
        "id": "view-in-github",
        "colab_type": "text"
      },
      "source": [
        "<a href=\"https://colab.research.google.com/github/Bindu-Samala/Python-Basics/blob/main/virtualenvironment.ipynb\" target=\"_parent\"><img src=\"https://colab.research.google.com/assets/colab-badge.svg\" alt=\"Open In Colab\"/></a>"
      ]
    },
    {
      "cell_type": "markdown",
      "source": [
        "**Virtual Environment**\n",
        "A virtual environment is a tool used to isolate specific Python environments on a single machine,allowing you to work on multiple projects with different dependencies and packages with out conflicts.They can be specifically useful when working on projects that have conflicting package versions or packages that are not compatible with each other\n"
      ],
      "metadata": {
        "id": "0sKVsLzwSAFg"
      }
    },
    {
      "cell_type": "code",
      "execution_count": null,
      "metadata": {
        "id": "KRDYTA8iR-Ch"
      },
      "outputs": [],
      "source": [
        "#create a virtual environment\n",
        "python -m venv myenv\n",
        "\n",
        "#Activate the virtual environment(Windows)\n",
        "myenv\\Scripts\\activate.bat\n",
        "\n",
        "#to deactivate the virtual environment\n",
        "deactivate"
      ]
    },
    {
      "cell_type": "markdown",
      "source": [
        "**The \"requirements.txt\" file**\n",
        "this file lists the packages and their versions that your project depends on.This file can be used to easily install all the required pacakges in anew environment"
      ],
      "metadata": {
        "id": "6gDcRdJZWLTI"
      }
    },
    {
      "cell_type": "code",
      "source": [
        "#output the list of installed pacakges and their versions to a file\n",
        "pip freeze >requirements.txt\n",
        "\n",
        "#to installl the packages listed in the requirenments.txt file\n",
        "pip install -r requirements.txt"
      ],
      "metadata": {
        "id": "UZv9sDVhWPTD"
      },
      "execution_count": null,
      "outputs": []
    }
  ]
}