{
  "cells": [
    {
      "cell_type": "markdown",
      "metadata": {
        "id": "view-in-github",
        "colab_type": "text"
      },
      "source": [
        "<a href=\"https://colab.research.google.com/github/Bindu-Samala/Python-Basics/blob/main/Day2.ipynb\" target=\"_parent\"><img src=\"https://colab.research.google.com/assets/colab-badge.svg\" alt=\"Open In Colab\"/></a>"
      ]
    },
    {
      "cell_type": "markdown",
      "metadata": {
        "id": "l7CXBrFB_YY5"
      },
      "source": [
        "Strings\n"
      ]
    },
    {
      "cell_type": "code",
      "execution_count": null,
      "metadata": {
        "colab": {
          "base_uri": "https://localhost:8080/"
        },
        "id": "4m7vo9ak-Pec",
        "outputId": "316b42f8-3316-44e1-bb8e-a6460c0a4f5f"
      },
      "outputs": [
        {
          "name": "stdout",
          "output_type": "stream",
          "text": [
            "Hello Bindu \n",
            "You are from Telangana\n",
            "He said,\"I want to eat an apple\"\n"
          ]
        }
      ],
      "source": [
        "name=\"Bindu\"\n",
        "place='Telangana'\n",
        "print(\"Hello \"+name,\"\\nYou are from \"+place)\n",
        "print('He said,\"I want to eat an apple\"')"
      ]
    },
    {
      "cell_type": "markdown",
      "metadata": {
        "id": "zUecZSUuGbqm"
      },
      "source": [
        "Multi Line String"
      ]
    },
    {
      "cell_type": "code",
      "execution_count": null,
      "metadata": {
        "colab": {
          "base_uri": "https://localhost:8080/"
        },
        "id": "qAxR6El3GZpi",
        "outputId": "0153f969-6c34-4cbb-f62e-adc48fb7f74d"
      },
      "outputs": [
        {
          "name": "stdout",
          "output_type": "stream",
          "text": [
            "He said,\n",
            "\"I am an 'intelligent and smart girl\n"
          ]
        }
      ],
      "source": [
        "a='''He said,\n",
        "\"I am an 'intelligent and smart girl'''\n",
        "print(a)"
      ]
    },
    {
      "cell_type": "markdown",
      "metadata": {
        "id": "KZZDliG2Hdpo"
      },
      "source": [
        "Accessing characters of a String\n"
      ]
    },
    {
      "cell_type": "code",
      "execution_count": null,
      "metadata": {
        "colab": {
          "base_uri": "https://localhost:8080/"
        },
        "id": "1pfgUoOzHhXT",
        "outputId": "f9a3bf14-3432-4628-c1ab-791abc47ce49"
      },
      "outputs": [
        {
          "name": "stdout",
          "output_type": "stream",
          "text": [
            "B\n",
            "l\n",
            "S\n"
          ]
        }
      ],
      "source": [
        "name=\"Bindu Samala\"\n",
        "print(name[0])\n",
        "print(name[10])\n",
        "print(name[6])"
      ]
    },
    {
      "cell_type": "markdown",
      "metadata": {
        "id": "cubIeZNDIFP-"
      },
      "source": [
        "Looping through String"
      ]
    },
    {
      "cell_type": "code",
      "execution_count": null,
      "metadata": {
        "colab": {
          "base_uri": "https://localhost:8080/"
        },
        "id": "vTQVEsrtIHV6",
        "outputId": "fa6591d9-1394-4e98-8370-66a273ea7a17"
      },
      "outputs": [
        {
          "name": "stdout",
          "output_type": "stream",
          "text": [
            "l\n",
            "e\n",
            "t\n",
            "'\n",
            "s\n",
            " \n",
            "u\n",
            "s\n",
            "e\n",
            " \n",
            "a\n",
            " \n",
            "f\n",
            "o\n",
            "r\n",
            " \n",
            "l\n",
            "o\n",
            "o\n",
            "p\n"
          ]
        }
      ],
      "source": [
        "name=\"let's use a for loop\"\n",
        "for char in name:\n",
        "    print(char)"
      ]
    },
    {
      "cell_type": "markdown",
      "metadata": {
        "id": "gS8qOq7pIzPb"
      },
      "source": [
        "String Slicing\n"
      ]
    },
    {
      "cell_type": "code",
      "execution_count": null,
      "metadata": {
        "colab": {
          "base_uri": "https://localhost:8080/"
        },
        "id": "8LoYjy_UI3lZ",
        "outputId": "4e8dfa86-b83e-41bf-dfe1-6be00c099168"
      },
      "outputs": [
        {
          "name": "stdout",
          "output_type": "stream",
          "text": [
            "Natio\n",
            "Natio\n",
            "32 11\n",
            "National Institute Of \n",
            "re\n",
            "angotr\n"
          ]
        }
      ],
      "source": [
        "name=\"National Institute Of Tcehmology\"\n",
        "fruit=\"Mangotree\"\n",
        "print(name[0:5])\n",
        "print(name[:5])\n",
        "print(len(name),len(name[21:]))\n",
        "print(name[0:-10])\n",
        "print(fruit[-3:-1])\n",
        "print(fruit[1:-2])"
      ]
    },
    {
      "cell_type": "markdown",
      "metadata": {
        "id": "6ARvPqVjV2fZ"
      },
      "source": [
        "String Methods\n"
      ]
    },
    {
      "cell_type": "code",
      "execution_count": null,
      "metadata": {
        "colab": {
          "base_uri": "https://localhost:8080/"
        },
        "id": "eJNkHta9V5Tk",
        "outputId": "64478b70-bf9c-41f8-8771-2837f72d6587"
      },
      "outputs": [
        {
          "name": "stdout",
          "output_type": "stream",
          "text": [
            "RAIPUR\n",
            "weekly\n"
          ]
        }
      ],
      "source": [
        "#strings are immutable\n",
        "a=\"Raipur\"\n",
        "b=\"WEEKLY\"\n",
        "print(a.upper())\n",
        "print(b.lower())"
      ]
    },
    {
      "cell_type": "code",
      "execution_count": null,
      "metadata": {
        "colab": {
          "base_uri": "https://localhost:8080/"
        },
        "id": "r-tEvcAMXKMZ",
        "outputId": "7a79e93c-befe-4661-9843-8e3bfcda68a9"
      },
      "outputs": [
        {
          "name": "stdout",
          "output_type": "stream",
          "text": [
            "!  Silver spoon  !\n",
            "!  Silver spoon  !\n",
            "  Silver spoon  \n",
            "no caste feeling\n"
          ]
        }
      ],
      "source": [
        "#strip() removes any whitespaces before and after the string\n",
        "category=\"!  Silver spoon  !\"\n",
        "print(category)\n",
        "print(category.strip())\n",
        "print(category.strip(\"!\"))\n",
        "#rstrip() removes any trailing characters\n",
        "caste=\"no caste feeling!!!!!\"\n",
        "print(caste.rstrip(\"!\"))\n"
      ]
    },
    {
      "cell_type": "code",
      "execution_count": null,
      "metadata": {
        "colab": {
          "base_uri": "https://localhost:8080/"
        },
        "id": "E-w4kF9PY5z5",
        "outputId": "1a3fff15-94c9-4d4c-ad24-3276df9422ef"
      },
      "outputs": [
        {
          "name": "stdout",
          "output_type": "stream",
          "text": [
            "Hi Bindu, How are you Bindu\n",
            "['Hi John', ' How are you John']\n",
            "['Hi', 'John,', 'How', 'are', 'you', 'John']\n",
            "['Hi', 'John,', 'How', 'are', 'you', 'John']\n"
          ]
        }
      ],
      "source": [
        "#replace() replaces all occurrences of string with another string\n",
        "a=\"Hi John, How are you John\"\n",
        "print(a.replace(\"John\",\"Bindu\"))\n",
        "#split() splits the given string  at the specified instance and returns the separated strings as list items\n",
        "print(a.split(\",\"))\n",
        "print(a.split())\n",
        "l1=a.split()\n",
        "print(l1)"
      ]
    },
    {
      "cell_type": "code",
      "execution_count": null,
      "metadata": {
        "colab": {
          "base_uri": "https://localhost:8080/"
        },
        "id": "eEoM1p37a_du",
        "outputId": "6c6e3ce4-653a-493d-c07f-9afc7bf86232"
      },
      "outputs": [
        {
          "name": "stdout",
          "output_type": "stream",
          "text": [
            "Be honest and loyal\n",
            "     be honest and Loyal      \n",
            "-----be honest and Loyal------\n"
          ]
        }
      ],
      "source": [
        "#capitalize() turns only first character to uppercase and rest to lowercase\n",
        "a=\"be honest and Loyal\"\n",
        "print(a.capitalize())\n",
        "#center() method aligns to the center as per the parameters given by the user\n",
        "print(a.center(30))\n",
        "print(a.center(30,\"-\"))"
      ]
    },
    {
      "cell_type": "code",
      "execution_count": 7,
      "metadata": {
        "colab": {
          "base_uri": "https://localhost:8080/"
        },
        "id": "TA6cA6qOcrO8",
        "outputId": "fa923e0a-d772-4907-da21-b065433f2460"
      },
      "outputs": [
        {
          "output_type": "stream",
          "name": "stdout",
          "text": [
            "False\n",
            "True\n",
            "True\n",
            "3\n"
          ]
        }
      ],
      "source": [
        "#endswith() checks if the string ends with a given value\n",
        "a=\"Be Good and Do Good!\"\n",
        "print(a.endswith(\"#\"))\n",
        "print(a.endswith(\"!\"))\n",
        "print(a.endswith(\"od\",4,7))\n",
        "#find() searches for first occurence of the given value and returns index\n",
        "print(a.find(\"Go\"))\n",
        "#index() is same like find() but throws error if not found\n",
        "# print(a.index(\"sss\"))"
      ]
    },
    {
      "cell_type": "code",
      "source": [
        "#isalnum() checks string is alphanumric\n",
        "a=\"123nJ Jdfnc787\\n\"\n",
        "print(a.isalnum())\n",
        "#isalpha() returns true if it contains A-Z,a-z\n",
        "print(a.isalpha())\n",
        "#islower() returns true if string is in lowercase\n",
        "print(a.islower())\n",
        "#isprintable() returns true if all the characters in given string\n",
        "print(a.isprintable())\n",
        "#isspace() returns true if string contains white spaces\n",
        "print(a.isspace())\n",
        "b=\"         \"\n",
        "print(b.isspace())\n"
      ],
      "metadata": {
        "colab": {
          "base_uri": "https://localhost:8080/"
        },
        "id": "pPXEllDxL4qt",
        "outputId": "8caa1230-4b1c-4e01-de0d-37f01d2703d5"
      },
      "execution_count": 15,
      "outputs": [
        {
          "output_type": "stream",
          "name": "stdout",
          "text": [
            "False\n",
            "False\n",
            "False\n",
            "False\n",
            "False\n",
            "True\n"
          ]
        }
      ]
    },
    {
      "cell_type": "code",
      "source": [
        "#istitle() return true only if the first letter of each word of the string is capitalized\n",
        "a=\"Covolutional Neural Networks\"\n",
        "print(a.istitle())\n",
        "#startswith()\n",
        "print(a.startswith(\"Co\"))\n",
        "#swapcase() upper to lower and lower to upper\n",
        "print(a.swapcase())"
      ],
      "metadata": {
        "colab": {
          "base_uri": "https://localhost:8080/"
        },
        "id": "WzU-0NG-NQEY",
        "outputId": "48bd2b70-8a0c-4226-be11-07ca43f80ac9"
      },
      "execution_count": 18,
      "outputs": [
        {
          "output_type": "stream",
          "name": "stdout",
          "text": [
            "True\n",
            "True\n",
            "cOVOLUTIONAL nEURAL nETWORKS\n"
          ]
        }
      ]
    }
  ],
  "metadata": {
    "colab": {
      "provenance": [],
      "authorship_tag": "ABX9TyNV2F8AcV8rbhJGV8m+mauF",
      "include_colab_link": true
    },
    "kernelspec": {
      "display_name": "Python 3",
      "name": "python3"
    },
    "language_info": {
      "name": "python"
    }
  },
  "nbformat": 4,
  "nbformat_minor": 0
}
