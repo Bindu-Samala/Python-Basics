{
  "nbformat": 4,
  "nbformat_minor": 0,
  "metadata": {
    "colab": {
      "provenance": [],
      "authorship_tag": "ABX9TyOpbVSNQsCrLgirAtBXdtef",
      "include_colab_link": true
    },
    "kernelspec": {
      "name": "python3",
      "display_name": "Python 3"
    },
    "language_info": {
      "name": "python"
    }
  },
  "cells": [
    {
      "cell_type": "markdown",
      "metadata": {
        "id": "view-in-github",
        "colab_type": "text"
      },
      "source": [
        "<a href=\"https://colab.research.google.com/github/Bindu-Samala/Python-Basics/blob/main/Day1.ipynb\" target=\"_parent\"><img src=\"https://colab.research.google.com/assets/colab-badge.svg\" alt=\"Open In Colab\"/></a>"
      ]
    },
    {
      "cell_type": "markdown",
      "source": [
        "**Day** **1**"
      ],
      "metadata": {
        "id": "W3jB90CNz8P3"
      }
    },
    {
      "cell_type": "code",
      "execution_count": null,
      "metadata": {
        "colab": {
          "base_uri": "https://localhost:8080/"
        },
        "id": "HqKmI-JMzGG7",
        "outputId": "c9b7b598-af78-4ea5-c66c-c495a269b59d"
      },
      "outputs": [
        {
          "output_type": "stream",
          "name": "stdout",
          "text": [
            "Hello world 7 Bindu\n",
            "5\n",
            "400\n"
          ]
        }
      ],
      "source": [
        "print(\"Hello world\",7,\"Bindu\")\n",
        "print(5)\n",
        "print(20*20)"
      ]
    },
    {
      "cell_type": "markdown",
      "source": [
        "comments,escape sequences\n"
      ],
      "metadata": {
        "id": "IQjTlEpFITkL"
      }
    },
    {
      "cell_type": "code",
      "source": [
        "# new line\n",
        "'''ths is a multiline comment\n",
        "you know'''\n",
        "\"\"\"this is also a multi line\n",
        "comment\"\"\"\n",
        "print(\"this is previous line\\nthis is a next line\") #contionus comment\n",
        "print(\"She is the \\\"lawyer\\\"\")"
      ],
      "metadata": {
        "colab": {
          "base_uri": "https://localhost:8080/"
        },
        "id": "pS7ZbSdoH6MN",
        "outputId": "a239d091-aa15-4d1f-c523-1907f4eda8aa"
      },
      "execution_count": null,
      "outputs": [
        {
          "output_type": "stream",
          "name": "stdout",
          "text": [
            "this is previous line\n",
            "this is a next line\n",
            "She is the \"lawyer\"\n"
          ]
        }
      ]
    },
    {
      "cell_type": "markdown",
      "source": [
        "Separator,end\n"
      ],
      "metadata": {
        "id": "z-4Qh6jrKt92"
      }
    },
    {
      "cell_type": "code",
      "source": [
        "print(\"Hey\",6,7,sep=\"-\")\n",
        "print(\"Hey\",6,7,sep=\"-\",end=\"***\")"
      ],
      "metadata": {
        "colab": {
          "base_uri": "https://localhost:8080/"
        },
        "id": "P9aYcRcwKs9A",
        "outputId": "8a0d3a82-4b6f-4935-89f7-b44348238561"
      },
      "execution_count": null,
      "outputs": [
        {
          "output_type": "stream",
          "name": "stdout",
          "text": [
            "Hey-6-7\n",
            "Hey-6-7***"
          ]
        }
      ]
    },
    {
      "cell_type": "markdown",
      "source": [
        "Variables,Data Types\n"
      ],
      "metadata": {
        "id": "zrpQcA5ZNMfE"
      }
    },
    {
      "cell_type": "code",
      "source": [
        "a=1232,\n",
        "a1=12.2\n",
        "a2=complex(8,2)\n",
        "print(type(a),type(a1),type(a2))\n",
        "b=\"Bindu Samala\"\n",
        "print(type(b))\n",
        "c=True\n",
        "print(type(c))\n",
        "d=None\n",
        "print(type(d))\n",
        "print(a,b,c,d)"
      ],
      "metadata": {
        "colab": {
          "base_uri": "https://localhost:8080/"
        },
        "id": "M5pLm2xwNQPs",
        "outputId": "03ed0d1f-e867-47e4-cba4-38ec87860434"
      },
      "execution_count": null,
      "outputs": [
        {
          "output_type": "stream",
          "name": "stdout",
          "text": [
            "<class 'tuple'> <class 'float'> <class 'complex'>\n",
            "<class 'str'>\n",
            "<class 'bool'>\n",
            "<class 'NoneType'>\n",
            "(1232,) Bindu Samala True None\n"
          ]
        }
      ]
    },
    {
      "cell_type": "code",
      "source": [
        "#list is a collection of data elements of different types and list is mutable\n",
        "l1=[5,\"bindu\",[2,3,4],[\"hey\",\"hi\"]]\n",
        "print(l1)\n",
        "print(type(l1))\n",
        "#tuple is immutable\n",
        "t1=(\"Hi\",\"hello\",1,\"Hi\")\n",
        "print(t1)\n",
        "#dictionary\n",
        "d1={\"name\":\"Bindu\",\"college\":\"NITRR\",\"instittue\":9}\n",
        "print(d1)\n"
      ],
      "metadata": {
        "colab": {
          "base_uri": "https://localhost:8080/"
        },
        "id": "3jEAv50URai8",
        "outputId": "4d640f2b-7ebd-4c7f-c667-42ee82b791b1"
      },
      "execution_count": null,
      "outputs": [
        {
          "output_type": "stream",
          "name": "stdout",
          "text": [
            "[5, 'bindu', [2, 3, 4], ['hey', 'hi']]\n",
            "<class 'list'>\n",
            "('Hi', 'hello', 1, 'Hi')\n",
            "{'name': 'Bindu', 'college': 'NITRR', 'instittue': 9}\n"
          ]
        }
      ]
    },
    {
      "cell_type": "markdown",
      "source": [
        "Operators\n"
      ],
      "metadata": {
        "id": "VTws0_sFTtOc"
      }
    },
    {
      "cell_type": "code",
      "source": [
        "print(10+2) #addition\n",
        "print(10-2) #subtraction\n",
        "print(10*2) #multiplication\n",
        "print(11/2) #division\n",
        "print(11//2)  #floor division\n",
        "print(11%2) #modulus\n",
        "print(2**5) #exponentiation"
      ],
      "metadata": {
        "colab": {
          "base_uri": "https://localhost:8080/"
        },
        "id": "fVfcZn6tTwBL",
        "outputId": "8467f2a9-973a-4bd1-83dc-d72688208629"
      },
      "execution_count": null,
      "outputs": [
        {
          "output_type": "stream",
          "name": "stdout",
          "text": [
            "12\n",
            "8\n",
            "20\n",
            "5.5\n",
            "5\n",
            "1\n",
            "32\n"
          ]
        }
      ]
    },
    {
      "cell_type": "markdown",
      "source": [
        "TypeCasting"
      ],
      "metadata": {
        "id": "tuzFsQChWANP"
      }
    },
    {
      "cell_type": "code",
      "source": [
        "# str() int() float() hext() oct() list() tuple() #dict set() ord()\n",
        "a=\"26\"\n",
        "b=2\n",
        "print(int(a)+b) #explicit typecasting\n",
        "c=1.9\n",
        "d=8\n",
        "print(c+d)#implicit type casting gives float"
      ],
      "metadata": {
        "colab": {
          "base_uri": "https://localhost:8080/"
        },
        "id": "I04fOpXoWCN5",
        "outputId": "97f0de8d-ae7c-412f-f752-f35d005735a7"
      },
      "execution_count": null,
      "outputs": [
        {
          "output_type": "stream",
          "name": "stdout",
          "text": [
            "28\n",
            "9\n"
          ]
        }
      ]
    },
    {
      "cell_type": "markdown",
      "source": [
        "User Input"
      ],
      "metadata": {
        "id": "tgKsf3euY1Xr"
      }
    },
    {
      "cell_type": "code",
      "source": [
        "# a=input(\"Enter your name\")\n",
        "# print(a)\n",
        "b=int(input())\n",
        "c=float(input())\n",
        "print(b+c)\n"
      ],
      "metadata": {
        "colab": {
          "base_uri": "https://localhost:8080/"
        },
        "id": "xRrsRsoJY3o_",
        "outputId": "df0005c7-e7b3-45fc-e320-1b6623abaedd"
      },
      "execution_count": null,
      "outputs": [
        {
          "output_type": "stream",
          "name": "stdout",
          "text": [
            "5\n",
            "4\n",
            "9.0\n"
          ]
        }
      ]
    }
  ]
}